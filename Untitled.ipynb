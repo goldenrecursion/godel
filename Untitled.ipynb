{
 "cells": [
  {
   "cell_type": "code",
   "execution_count": 1,
   "id": "11adcd84-9b26-4c8f-af2a-3961ca8857fb",
   "metadata": {},
   "outputs": [],
   "source": [
    "from godel import GoldenAPI"
   ]
  },
  {
   "cell_type": "code",
   "execution_count": 2,
   "id": "c736cfab-2798-45f9-9485-15996de353e1",
   "metadata": {},
   "outputs": [
    {
     "name": "stdout",
     "output_type": "stream",
     "text": [
      "haos\n"
     ]
    }
   ],
   "source": [
    "print(\"haos\")"
   ]
  },
  {
   "cell_type": "code",
   "execution_count": 4,
   "id": "c32c61c9-bb06-4beb-8bff-f0bd9d19b732",
   "metadata": {},
   "outputs": [],
   "source": [
    "goldapi = GoldenAPI(timeout=1)"
   ]
  },
  {
   "cell_type": "code",
   "execution_count": 12,
   "id": "cd25768c-3430-4d8b-a879-2ed55fcf68af",
   "metadata": {},
   "outputs": [],
   "source": [
    "goldapi = GoldenAPI(timeout=0.5)"
   ]
  },
  {
   "cell_type": "code",
   "execution_count": 14,
   "id": "6cc4323d-9d46-4f1e-8e0e-bb483c8afb62",
   "metadata": {},
   "outputs": [
    {
     "data": {
      "text/plain": [
       "{'data': {'entityByName': {'nodes': [{'id': '6a4511c9-cff9-4942-a607-5dc3b0feb264',\n",
       "     'name': 'G&L Musical Instruments',\n",
       "     'description': None,\n",
       "     'thumbnail': 'https://golden-storage-production.s3.amazonaws.com/topic_images/ebf800093ee54eb9af42244aa09cf258.png',\n",
       "     'goldenId': '259791',\n",
       "     'pathname': '/entity/6a4511c9-cff9-4942-a607-5dc3b0feb264'},\n",
       "    {'id': 'af1d8dda-68b0-4e52-ad71-fe2f4e578441',\n",
       "     'name': 'Parle G Bis',\n",
       "     'description': None,\n",
       "     'thumbnail': 'https://golden-storage-production.s3.amazonaws.com/topic_images/112754b317b143dd9d52cfb38a40d2b7.png',\n",
       "     'goldenId': '5326409',\n",
       "     'pathname': '/entity/af1d8dda-68b0-4e52-ad71-fe2f4e578441'},\n",
       "    {'id': '9a2649a4-aba5-4245-bb9d-70f0f079a53e',\n",
       "     'name': 'G-Global Business Portal',\n",
       "     'description': None,\n",
       "     'thumbnail': 'https://golden-storage-production.s3.amazonaws.com/topic_images/cdd3939f341347cd9f963382fef2ad91.png',\n",
       "     'goldenId': '5401435',\n",
       "     'pathname': '/entity/9a2649a4-aba5-4245-bb9d-70f0f079a53e'},\n",
       "    {'id': 'ae0920c2-3030-4b2c-a6a4-826b3d479752',\n",
       "     'name': 'Bruce G. Bodaken',\n",
       "     'description': '',\n",
       "     'thumbnail': None,\n",
       "     'goldenId': '5816071',\n",
       "     'pathname': '/entity/ae0920c2-3030-4b2c-a6a4-826b3d479752'},\n",
       "    {'id': '4e5969af-da61-41eb-9d68-7b53fb6ae277',\n",
       "     'name': 'B&G Foods',\n",
       "     'description': None,\n",
       "     'thumbnail': 'https://golden-storage-production.s3.amazonaws.com/topic_images/fd027e7f4a7d48deb1e120f829a5a954.png',\n",
       "     'goldenId': '5849123',\n",
       "     'pathname': '/entity/4e5969af-da61-41eb-9d68-7b53fb6ae277'},\n",
       "    {'id': '0c84fc64-b064-4169-bf72-0c63206aa661',\n",
       "     'name': 'G-Unit Clothing Company',\n",
       "     'description': '',\n",
       "     'thumbnail': 'https://golden-storage-production.s3.amazonaws.com/topic_images/de93c1e17f504a54803055ed28843891.png',\n",
       "     'goldenId': '458006',\n",
       "     'pathname': '/entity/0c84fc64-b064-4169-bf72-0c63206aa661'},\n",
       "    {'id': 'd7f115de-64f8-40bc-8e3e-315da822bf84',\n",
       "     'name': 'G Medical Innovations',\n",
       "     'description': None,\n",
       "     'thumbnail': 'https://golden-storage-production.s3.amazonaws.com/topic_images/d23a736fb8c74127b4cb9107c92314c5.png',\n",
       "     'goldenId': '6803057',\n",
       "     'pathname': '/entity/d7f115de-64f8-40bc-8e3e-315da822bf84'},\n",
       "    {'id': '8afc08bc-1899-4998-b6c3-57fe7b800282',\n",
       "     'name': 'G-Mobile',\n",
       "     'description': 'Mongolian telecommunications company',\n",
       "     'thumbnail': None,\n",
       "     'goldenId': '2133685',\n",
       "     'pathname': '/entity/8afc08bc-1899-4998-b6c3-57fe7b800282'},\n",
       "    {'id': '80afbfd7-5a3a-4eff-805f-c65c6b3d033f',\n",
       "     'name': 'Nadine G. Norton',\n",
       "     'description': None,\n",
       "     'thumbnail': None,\n",
       "     'goldenId': '7798017',\n",
       "     'pathname': '/entity/80afbfd7-5a3a-4eff-805f-c65c6b3d033f'},\n",
       "    {'id': '40824ffe-98f3-4643-bb04-ef711c73d79e',\n",
       "     'name': 'Thomas G Black',\n",
       "     'description': None,\n",
       "     'thumbnail': None,\n",
       "     'goldenId': '7789702',\n",
       "     'pathname': '/entity/40824ffe-98f3-4643-bb04-ef711c73d79e'},\n",
       "    {'id': '28c7d7a6-1890-42f9-b490-905a7f400e29',\n",
       "     'name': 'Super G Capital, Llc',\n",
       "     'description': None,\n",
       "     'thumbnail': 'https://golden-storage-production.s3.amazonaws.com/topic_images/cf5168f4309446c48b40a7d0429ec083.png',\n",
       "     'goldenId': '6489418',\n",
       "     'pathname': '/entity/28c7d7a6-1890-42f9-b490-905a7f400e29'},\n",
       "    {'id': 'ef7bd3c4-1b9c-4a14-9b1a-8f5df365d807',\n",
       "     'name': \"Peter G. O'Sullivan\",\n",
       "     'description': None,\n",
       "     'thumbnail': None,\n",
       "     'goldenId': '7820436',\n",
       "     'pathname': '/entity/ef7bd3c4-1b9c-4a14-9b1a-8f5df365d807'},\n",
       "    {'id': 'cf563a71-c2ca-4f20-b749-b88ccfaa36db',\n",
       "     'name': 'Nasser G. Moazzami',\n",
       "     'description': None,\n",
       "     'thumbnail': None,\n",
       "     'goldenId': '8213259',\n",
       "     'pathname': '/entity/cf563a71-c2ca-4f20-b749-b88ccfaa36db'},\n",
       "    {'id': 'ab990d51-2c07-484f-b789-9be0b4ab9188',\n",
       "     'name': 'Rodney G McDonald',\n",
       "     'description': None,\n",
       "     'thumbnail': None,\n",
       "     'goldenId': '7792256',\n",
       "     'pathname': '/entity/ab990d51-2c07-484f-b789-9be0b4ab9188'},\n",
       "    {'id': '2a2436a5-5103-46e5-9e16-222e5edcd965',\n",
       "     'name': 'Richard G. Morrison',\n",
       "     'description': None,\n",
       "     'thumbnail': 'https://golden-storage-production.s3.amazonaws.com/topic_images/bbe2f0f744f64edfb11d09bca7e767ec.png',\n",
       "     'goldenId': '12473305',\n",
       "     'pathname': '/entity/2a2436a5-5103-46e5-9e16-222e5edcd965'},\n",
       "    {'id': 'fa4d3473-2431-47e3-b1d9-5b57c624fafa',\n",
       "     'name': 'KT&G',\n",
       "     'description': 'KT&G (originally \"Korea Tobacco & Ginseng\" and later \"Korea Tomorrow & Global Corporation\") is the leading tobacco company in South Korea with annual sales over US$4 billion.',\n",
       "     'thumbnail': 'https://golden-storage-production.s3.amazonaws.com/topic_images/8d4c98d701994e2da666a71469672388.png',\n",
       "     'goldenId': '12215787',\n",
       "     'pathname': '/entity/fa4d3473-2431-47e3-b1d9-5b57c624fafa'},\n",
       "    {'id': '6e7985d3-2946-4c07-995f-7dd266e8e1fc',\n",
       "     'name': 'Philip G. Shadrach',\n",
       "     'description': None,\n",
       "     'thumbnail': None,\n",
       "     'goldenId': '5220333',\n",
       "     'pathname': '/entity/6e7985d3-2946-4c07-995f-7dd266e8e1fc'},\n",
       "    {'id': 'dea47df4-4c87-493f-850b-a91b439770a6',\n",
       "     'name': 'Paul G. Driscoll',\n",
       "     'description': None,\n",
       "     'thumbnail': None,\n",
       "     'goldenId': '12825809',\n",
       "     'pathname': '/entity/dea47df4-4c87-493f-850b-a91b439770a6'},\n",
       "    {'id': '7acae457-9037-4334-9f2a-a1a42a438b65',\n",
       "     'name': 'Michael G. Rippey',\n",
       "     'description': None,\n",
       "     'thumbnail': None,\n",
       "     'goldenId': '12665799',\n",
       "     'pathname': '/entity/7acae457-9037-4334-9f2a-a1a42a438b65'},\n",
       "    {'id': '202bf3a4-2a91-4a76-a671-03ed64e1027c',\n",
       "     'name': 'Maniker F&G',\n",
       "     'description': None,\n",
       "     'thumbnail': 'https://golden-storage-production.s3.amazonaws.com/topic_images/a449888a229341519a70d0976233c372.png',\n",
       "     'goldenId': '12876722',\n",
       "     'pathname': '/entity/202bf3a4-2a91-4a76-a671-03ed64e1027c'}]}}}"
      ]
     },
     "execution_count": 14,
     "metadata": {},
     "output_type": "execute_result"
    }
   ],
   "source": [
    "goldapi.entity_search(name=\"G\")"
   ]
  },
  {
   "cell_type": "code",
   "execution_count": null,
   "id": "65dea9e9-fd99-4225-9a34-4829b5db9ed7",
   "metadata": {},
   "outputs": [],
   "source": []
  }
 ],
 "metadata": {
  "kernelspec": {
   "display_name": "Python 3 (ipykernel)",
   "language": "python",
   "name": "python3"
  },
  "language_info": {
   "codemirror_mode": {
    "name": "ipython",
    "version": 3
   },
   "file_extension": ".py",
   "mimetype": "text/x-python",
   "name": "python",
   "nbconvert_exporter": "python",
   "pygments_lexer": "ipython3",
   "version": "3.9.5"
  }
 },
 "nbformat": 4,
 "nbformat_minor": 5
}
