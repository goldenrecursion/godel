{
 "cells": [
  {
   "cell_type": "markdown",
   "id": "9e8eb97b-c080-48d0-806c-1242fdb99428",
   "metadata": {},
   "source": [
    "# Create Triples\n",
    "\n",
    "A short guide to adding triples to the Golden decentralized knowledge graph using the godel SDK. Please see the [Golden Protocol FAQ Guide](https://www.notion.so/goldenhq/Golden-Protocol-FAQ-78ae2357b9af44aeaa655cb1b1966ee4) and the [Adding Structured Data Guide](https://www.notion.so/goldenhq/Adding-Structured-Data-Guide-ae657337bf4f4e54ae4402df083c76ac) to learn more about Golden, data submission, and rewards."
   ]
  },
  {
   "cell_type": "markdown",
   "id": "3f5cdf0e-a6b1-4f06-bdb5-940cb36024f0",
   "metadata": {},
   "source": [
    "Note: Attribution and eligibility for testnet points on triple submissions will be assigned by the earliest timestamped transaction."
   ]
  },
  {
   "cell_type": "markdown",
   "id": "02122667-46e5-4bb3-a475-61f484327998",
   "metadata": {},
   "source": [
    "## Prerequisite\n",
    "\n",
    "[Authentication](https://docs.golden.xyz/guides/authentication)\n",
    "\n",
    "[Godel Authentication](https://docs.golden.xyz/godel-python-sdk/authentication)\n",
    "\n",
    "This guide requires you install Godel's data-tools.\n",
    "\n",
    "You can do this with `pip install godel` and comes pre-installed if using the godel docker image."
   ]
  },
  {
   "cell_type": "markdown",
   "id": "c5e9a14d-f350-43f9-b7bc-ba12c7e79a04",
   "metadata": {},
   "source": [
    "### 1. Connect to Golden Web3 API\n",
    "\n",
    "Let's connect the python wrapper to the Golden GraphQL API.\n",
    "\n",
    "Make sure you ran through the prerequisites for this guide and have learned to authenticate and retrieve your JWT token in Godel."
   ]
  },
  {
   "cell_type": "code",
   "execution_count": 1,
   "id": "a39d8755-e9db-4008-aa3e-4832cd1d53b7",
   "metadata": {},
   "outputs": [],
   "source": [
    "from godel import GoldenAPI\n",
    "\n",
    "JWT_TOKEN = \"\"  # TODO: Enter your JWT token\n",
    "goldapi = GoldenAPI(jwt_token=JWT_TOKEN)"
   ]
  },
  {
   "cell_type": "markdown",
   "id": "06bd69dc-c7a5-4a45-a227-8260e953a096",
   "metadata": {},
   "source": [
    "Test that you can hit the API with `entity_search()` and we'll save the results so we can use the resulting entity as our subject entity later."
   ]
  },
  {
   "cell_type": "code",
   "execution_count": 2,
   "id": "23da262e-c30c-44cf-8c49-e347feacb6bb",
   "metadata": {
    "tags": []
   },
   "outputs": [
    {
     "data": {
      "text/html": [
       "<div>\n",
       "<style scoped>\n",
       "    .dataframe tbody tr th:only-of-type {\n",
       "        vertical-align: middle;\n",
       "    }\n",
       "\n",
       "    .dataframe tbody tr th {\n",
       "        vertical-align: top;\n",
       "    }\n",
       "\n",
       "    .dataframe thead th {\n",
       "        text-align: right;\n",
       "    }\n",
       "</style>\n",
       "<table border=\"1\" class=\"dataframe\">\n",
       "  <thead>\n",
       "    <tr style=\"text-align: right;\">\n",
       "      <th></th>\n",
       "      <th>id</th>\n",
       "      <th>name</th>\n",
       "      <th>description</th>\n",
       "      <th>thumbnail</th>\n",
       "      <th>goldenId</th>\n",
       "      <th>pathname</th>\n",
       "    </tr>\n",
       "  </thead>\n",
       "  <tbody>\n",
       "    <tr>\n",
       "      <th>0</th>\n",
       "      <td>2ebdc8eb-f31b-46d6-a39f-3d544e8b418a</td>\n",
       "      <td>Barack Obama</td>\n",
       "      <td>44th president of the united states of america</td>\n",
       "      <td>https://golden-media.s3.amazonaws.com/topics/2...</td>\n",
       "      <td>207587</td>\n",
       "      <td>/entity/2ebdc8eb-f31b-46d6-a39f-3d544e8b418a</td>\n",
       "    </tr>\n",
       "    <tr>\n",
       "      <th>1</th>\n",
       "      <td>bd7f4770-b868-4853-9567-b67d74803e09</td>\n",
       "      <td>Barack Obama</td>\n",
       "      <td>Famous As: 44th President of the United States</td>\n",
       "      <td>https://golden-storage-production.s3.amazonaws...</td>\n",
       "      <td>12275078</td>\n",
       "      <td>/entity/bd7f4770-b868-4853-9567-b67d74803e09</td>\n",
       "    </tr>\n",
       "    <tr>\n",
       "      <th>2</th>\n",
       "      <td>a09d4230-f8b1-414f-b0ec-b132d2e71b0c</td>\n",
       "      <td>Barack Obama Sr.</td>\n",
       "      <td>Kenyan economist</td>\n",
       "      <td>None</td>\n",
       "      <td>2066223</td>\n",
       "      <td>/entity/a09d4230-f8b1-414f-b0ec-b132d2e71b0c</td>\n",
       "    </tr>\n",
       "  </tbody>\n",
       "</table>\n",
       "</div>"
      ],
      "text/plain": [
       "                                     id              name  \\\n",
       "0  2ebdc8eb-f31b-46d6-a39f-3d544e8b418a      Barack Obama   \n",
       "1  bd7f4770-b868-4853-9567-b67d74803e09      Barack Obama   \n",
       "2  a09d4230-f8b1-414f-b0ec-b132d2e71b0c  Barack Obama Sr.   \n",
       "\n",
       "                                      description  \\\n",
       "0  44th president of the united states of america   \n",
       "1  Famous As: 44th President of the United States   \n",
       "2                                Kenyan economist   \n",
       "\n",
       "                                           thumbnail  goldenId  \\\n",
       "0  https://golden-media.s3.amazonaws.com/topics/2...    207587   \n",
       "1  https://golden-storage-production.s3.amazonaws...  12275078   \n",
       "2                                               None   2066223   \n",
       "\n",
       "                                       pathname  \n",
       "0  /entity/2ebdc8eb-f31b-46d6-a39f-3d544e8b418a  \n",
       "1  /entity/bd7f4770-b868-4853-9567-b67d74803e09  \n",
       "2  /entity/a09d4230-f8b1-414f-b0ec-b132d2e71b0c  "
      ]
     },
     "execution_count": 2,
     "metadata": {},
     "output_type": "execute_result"
    }
   ],
   "source": [
    "import pandas as pd\n",
    "\n",
    "# Test connection with search\n",
    "search_results = goldapi.entity_search(name=\"Barack Obama\")\n",
    "search_results_df = pd.DataFrame(search_results[\"data\"][\"entityByName\"][\"nodes\"])\n",
    "search_results_df"
   ]
  },
  {
   "cell_type": "markdown",
   "id": "ea07bae9-8bb7-4180-933d-87456f7a1fc8",
   "metadata": {},
   "source": [
    "### 2. Get Predicates\n",
    "\n",
    "You can run the code below to get the list of accepted predicates available for the protocol."
   ]
  },
  {
   "cell_type": "code",
   "execution_count": 3,
   "id": "1150a6ee-5cd6-4831-9ce7-1ce7564658bc",
   "metadata": {
    "tags": []
   },
   "outputs": [
    {
     "data": {
      "text/html": [
       "<div>\n",
       "<style scoped>\n",
       "    .dataframe tbody tr th:only-of-type {\n",
       "        vertical-align: middle;\n",
       "    }\n",
       "\n",
       "    .dataframe tbody tr th {\n",
       "        vertical-align: top;\n",
       "    }\n",
       "\n",
       "    .dataframe thead th {\n",
       "        text-align: right;\n",
       "    }\n",
       "</style>\n",
       "<table border=\"1\" class=\"dataframe\">\n",
       "  <thead>\n",
       "    <tr style=\"text-align: right;\">\n",
       "      <th></th>\n",
       "      <th>id</th>\n",
       "      <th>objectType</th>\n",
       "    </tr>\n",
       "  </thead>\n",
       "  <tbody>\n",
       "    <tr>\n",
       "      <th>Spotify Artist ID</th>\n",
       "      <td>09dec055-52d8-42e6-9fc0-56ecac599a8b</td>\n",
       "      <td>STRING</td>\n",
       "    </tr>\n",
       "    <tr>\n",
       "      <th>CEO</th>\n",
       "      <td>0a87e996-34b4-46ba-909a-70ab67b1f811</td>\n",
       "      <td>ENTITY</td>\n",
       "    </tr>\n",
       "    <tr>\n",
       "      <th>Email address</th>\n",
       "      <td>0efd0441-1ffc-4e30-8806-e58c434770c8</td>\n",
       "      <td>STRING</td>\n",
       "    </tr>\n",
       "    <tr>\n",
       "      <th>YouTube channel</th>\n",
       "      <td>12acb8fe-0573-4ca8-8cc1-180cc6ba3486</td>\n",
       "      <td>ANY_URI</td>\n",
       "    </tr>\n",
       "    <tr>\n",
       "      <th>Whitepaper</th>\n",
       "      <td>14fa743c-8161-42e8-a92f-5c29c70e87f8</td>\n",
       "      <td>ANY_URI</td>\n",
       "    </tr>\n",
       "  </tbody>\n",
       "</table>\n",
       "</div>"
      ],
      "text/plain": [
       "                                                     id objectType\n",
       "Spotify Artist ID  09dec055-52d8-42e6-9fc0-56ecac599a8b     STRING\n",
       "CEO                0a87e996-34b4-46ba-909a-70ab67b1f811     ENTITY\n",
       "Email address      0efd0441-1ffc-4e30-8806-e58c434770c8     STRING\n",
       "YouTube channel    12acb8fe-0573-4ca8-8cc1-180cc6ba3486    ANY_URI\n",
       "Whitepaper         14fa743c-8161-42e8-a92f-5c29c70e87f8    ANY_URI"
      ]
     },
     "execution_count": 3,
     "metadata": {},
     "output_type": "execute_result"
    }
   ],
   "source": [
    "import pandas as pd\n",
    "\n",
    "predicates = {}\n",
    "for p in goldapi.predicates()[\"data\"][\"predicates\"][\"edges\"]:\n",
    "    p = p[\"node\"]\n",
    "    predicates[p[\"name\"]] = {\"id\": p[\"id\"], \"objectType\": p[\"objectType\"]} \n",
    "predicates_df = pd.DataFrame(predicates).transpose()\n",
    "predicates_df.head()"
   ]
  },
  {
   "cell_type": "markdown",
   "id": "84ecae71-11fa-4d90-af24-c0a78c721e89",
   "metadata": {},
   "source": [
    "### 3. Create Triple\n",
    "\n",
    "First, view the `CreateStatementInput` object schema."
   ]
  },
  {
   "cell_type": "code",
   "execution_count": 4,
   "id": "e2eda5fb-fd10-433a-acf2-8fb9d5b13cb4",
   "metadata": {},
   "outputs": [
    {
     "data": {
      "text/plain": [
       "input CreateStatementInput {\n",
       "  clientMutationId: String\n",
       "  subjectId: UUID!\n",
       "  predicateId: UUID!\n",
       "  objectValue: String\n",
       "  objectEntityId: UUID\n",
       "  citationUrls: [String]\n",
       "  qualifiers: [QualifierInputRecordInput]\n",
       "}"
      ]
     },
     "execution_count": 4,
     "metadata": {},
     "output_type": "execute_result"
    }
   ],
   "source": [
    "from godel.schema import CreateStatementInput, StatementInputRecordInput\n",
    "\n",
    "CreateStatementInput"
   ]
  },
  {
   "cell_type": "markdown",
   "id": "eebbf439-ca61-436b-8314-95d5d68d8431",
   "metadata": {},
   "source": [
    "Now you can input your triple data. Make sure to check the predicate object type to ensure your object entity ID or object value matches the object type."
   ]
  },
  {
   "cell_type": "markdown",
   "id": "ce92daa9-8eff-4bf2-9700-63e0126ff104",
   "metadata": {},
   "source": [
    "#### Triple with Object Value Example"
   ]
  },
  {
   "cell_type": "code",
   "execution_count": 5,
   "id": "af66ddcc-2b3c-40e9-8594-de2ee39bc3ee",
   "metadata": {},
   "outputs": [],
   "source": [
    "# Triple data\n",
    "subject_id = search_results_df[\"id\"][0]  # Entity ID\n",
    "predicate_id = predicates_df[\"id\"][\"Website\"]  # Website ID\n",
    "object_value = \"https://barackobama.com/\"\n",
    "\n",
    "# Create statement input API\n",
    "create_statement_input = CreateStatementInput(\n",
    "    subject_id=subject_id,\n",
    "    predicate_id=predicate_id,\n",
    "    object_value=object_value,\n",
    "    citation_urls=[],\n",
    ")"
   ]
  },
  {
   "cell_type": "markdown",
   "id": "3dd2fd42-7f4b-4903-b97c-553185bd95f4",
   "metadata": {},
   "source": [
    "### WARNING: Running the code below may charge gas fees and stake testnet points with your wallet. You may lose testnet points by submitting incorrect data."
   ]
  },
  {
   "cell_type": "code",
   "execution_count": null,
   "id": "ff7a5315-d485-44a3-a739-78eb6d9d3268",
   "metadata": {
    "tags": []
   },
   "outputs": [],
   "source": [
    "data = goldapi.create_statement(create_statement_input=create_statement_input)\n",
    "data"
   ]
  },
  {
   "cell_type": "markdown",
   "id": "eb11bae1-118e-467f-a01e-2a1cafe70c4c",
   "metadata": {},
   "source": [
    "#### Triple with Object Entity ID Example"
   ]
  },
  {
   "cell_type": "code",
   "execution_count": null,
   "id": "99faad16-535d-4d85-84f0-154ee6cfac3c",
   "metadata": {},
   "outputs": [],
   "source": [
    "# Triple data\n",
    "subject_id = \"6a20066c-0909-4cd6-81ab-c12245a285e0\"  # \"John Doe\" Entity ID\n",
    "predicate_id = predicates[\"CEO of\"][\"id\"]  # \"CEO of\" Predicate ID\n",
    "object_entity_id = \"36b56cea-db86-482f-8b63-5b4e75b3b968\"  # \"Huel\" Entity ID\n",
    "\n",
    "# Create statement input API\n",
    "create_statement_input = CreateStatementInput(\n",
    "    subject_id=subject_id,\n",
    "    predicate_id=predicate_id,\n",
    "    object_entity_id=object_entity_id,\n",
    "    citation_urls=[\"https://golden.com/wiki/johndoe\"],\n",
    ")"
   ]
  },
  {
   "cell_type": "markdown",
   "id": "728a3624-7527-4684-9c0e-f1cdfaf31db9",
   "metadata": {},
   "source": [
    "### WARNING: Running the code below may charge gas fees and stake testnet points with your wallet. You may lose testnet points by submitting incorrect data."
   ]
  },
  {
   "cell_type": "code",
   "execution_count": null,
   "id": "e2f0a043-40ce-4e30-bf23-8385f3114d6f",
   "metadata": {},
   "outputs": [],
   "source": [
    "data = goldapi.create_statement(create_statement_input=create_statement_input)\n",
    "data"
   ]
  },
  {
   "cell_type": "code",
   "execution_count": null,
   "id": "b2ea2aa8-487c-4db4-9b41-1fa08b768632",
   "metadata": {},
   "outputs": [],
   "source": []
  }
 ],
 "metadata": {
  "kernelspec": {
   "display_name": "Python 3.8.13 ('kin')",
   "language": "python",
   "name": "python3"
  },
  "language_info": {
   "codemirror_mode": {
    "name": "ipython",
    "version": 3
   },
   "file_extension": ".py",
   "mimetype": "text/x-python",
   "name": "python",
   "nbconvert_exporter": "python",
   "pygments_lexer": "ipython3",
   "version": "3.8.13"
  },
  "vscode": {
   "interpreter": {
    "hash": "7f0162e0494ffd197d4c84e1c52fbcf566b58529937a5cd0230e5e855992544a"
   }
  }
 },
 "nbformat": 4,
 "nbformat_minor": 5
}
