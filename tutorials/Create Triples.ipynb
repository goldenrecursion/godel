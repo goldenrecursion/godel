{
 "cells": [
  {
   "cell_type": "markdown",
   "id": "9e8eb97b-c080-48d0-806c-1242fdb99428",
   "metadata": {},
   "source": [
    "# Create Triples\n",
    "\n",
    "A short guide to adding triples to the Golden decentralized knowledge graph using the godel SDK. Please see the [Golden Protocol FAQ Guide](https://www.notion.so/goldenhq/Golden-Protocol-FAQ-78ae2357b9af44aeaa655cb1b1966ee4) and the [Adding Structured Data Guide](https://www.notion.so/goldenhq/Adding-Structured-Data-Guide-ae657337bf4f4e54ae4402df083c76ac) to learn more about Golden, data submission, and rewards."
   ]
  },
  {
   "cell_type": "markdown",
   "id": "3f5cdf0e-a6b1-4f06-bdb5-940cb36024f0",
   "metadata": {},
   "source": [
    "Note: Attribution and eligibility for testnet points on triple submissions will be assigned by the earliest timestamped transaction."
   ]
  },
  {
   "cell_type": "markdown",
   "id": "02122667-46e5-4bb3-a475-61f484327998",
   "metadata": {},
   "source": [
    "## Prerequisite\n",
    "\n",
    "[Authentication](https://docs.golden.xyz/guides/authentication)\n",
    "\n",
    "[Godel Authentication](https://docs.golden.xyz/godel-python-sdk/authentication)\n",
    "\n",
    "This guide requires you install Godel's data-tools.\n",
    "\n",
    "You can do this with `pip install godel[data-tools]` and comes pre-installed if using the godel docker image."
   ]
  },
  {
   "cell_type": "markdown",
   "id": "c5e9a14d-f350-43f9-b7bc-ba12c7e79a04",
   "metadata": {},
   "source": [
    "### 1. Connect to Golden Web3 API\n",
    "\n",
    "Let's connect the python wrapper to the Golden GraphQL API.\n",
    "\n",
    "Make sure you ran through the prerequisites for this guide and have learned to authenticate and retrieve your JWT token in Godel."
   ]
  },
  {
   "cell_type": "code",
   "execution_count": 1,
   "id": "a39d8755-e9db-4008-aa3e-4832cd1d53b7",
   "metadata": {},
   "outputs": [],
   "source": [
    "from godel import GoldenAPI\n",
    "\n",
    "JWT_TOKEN = \"ey098sd908v79899789877986567967845jh567hj5679568df678678daf6786789s569ghm567457hm8g567n8678fb8790678sd56756n456h8d4f5gn865648\"\n",
    "goldapi = GoldenAPI(jwt_token=JWT_TOKEN)"
   ]
  },
  {
   "cell_type": "markdown",
   "id": "06bd69dc-c7a5-4a45-a227-8260e953a096",
   "metadata": {},
   "source": [
    "Test that you can hit the API with `entity_search()`, and we'll save the results so we can use the resulting entity as our subject entity for this guide."
   ]
  },
  {
   "cell_type": "code",
   "execution_count": 2,
   "id": "23da262e-c30c-44cf-8c49-e347feacb6bb",
   "metadata": {
    "tags": []
   },
   "outputs": [
    {
     "data": {
      "text/html": [
       "<div>\n",
       "<style scoped>\n",
       "    .dataframe tbody tr th:only-of-type {\n",
       "        vertical-align: middle;\n",
       "    }\n",
       "\n",
       "    .dataframe tbody tr th {\n",
       "        vertical-align: top;\n",
       "    }\n",
       "\n",
       "    .dataframe thead th {\n",
       "        text-align: right;\n",
       "    }\n",
       "</style>\n",
       "<table border=\"1\" class=\"dataframe\">\n",
       "  <thead>\n",
       "    <tr style=\"text-align: right;\">\n",
       "      <th></th>\n",
       "      <th>id</th>\n",
       "      <th>name</th>\n",
       "      <th>description</th>\n",
       "      <th>thumbnail</th>\n",
       "      <th>goldenId</th>\n",
       "      <th>pathname</th>\n",
       "    </tr>\n",
       "  </thead>\n",
       "  <tbody>\n",
       "    <tr>\n",
       "      <th>0</th>\n",
       "      <td>d95ef4b0-e006-4203-bfb4-adbe99f63ce7</td>\n",
       "      <td>Miles Wolff</td>\n",
       "      <td>Id nihil blanditiis eius fugit odit blanditiis...</td>\n",
       "      <td>https://cloudflare-ipfs.com/ipfs/Qmd3W5DuhgHir...</td>\n",
       "      <td>None</td>\n",
       "      <td>/entity/d95ef4b0-e006-4203-bfb4-adbe99f63ce7</td>\n",
       "    </tr>\n",
       "  </tbody>\n",
       "</table>\n",
       "</div>"
      ],
      "text/plain": [
       "                                     id         name  \\\n",
       "0  d95ef4b0-e006-4203-bfb4-adbe99f63ce7  Miles Wolff   \n",
       "\n",
       "                                         description  \\\n",
       "0  Id nihil blanditiis eius fugit odit blanditiis...   \n",
       "\n",
       "                                           thumbnail goldenId  \\\n",
       "0  https://cloudflare-ipfs.com/ipfs/Qmd3W5DuhgHir...     None   \n",
       "\n",
       "                                       pathname  \n",
       "0  /entity/d95ef4b0-e006-4203-bfb4-adbe99f63ce7  "
      ]
     },
     "execution_count": 2,
     "metadata": {},
     "output_type": "execute_result"
    }
   ],
   "source": [
    "import pandas as pd\n",
    "\n",
    "# Test with search\n",
    "search_results = goldapi.entity_search(name=\"Miles\")\n",
    "search_results_df = pd.DataFrame(search_results[\"data\"][\"entityByName\"][\"nodes\"])\n",
    "search_results_df"
   ]
  },
  {
   "cell_type": "markdown",
   "id": "ea07bae9-8bb7-4180-933d-87456f7a1fc8",
   "metadata": {},
   "source": [
    "### 2. Get Predicates\n",
    "\n",
    "You can run the code below to get the list of accepted predicates available for the protocol."
   ]
  },
  {
   "cell_type": "code",
   "execution_count": 3,
   "id": "1150a6ee-5cd6-4831-9ce7-1ce7564658bc",
   "metadata": {
    "tags": []
   },
   "outputs": [
    {
     "data": {
      "text/html": [
       "<div>\n",
       "<style scoped>\n",
       "    .dataframe tbody tr th:only-of-type {\n",
       "        vertical-align: middle;\n",
       "    }\n",
       "\n",
       "    .dataframe tbody tr th {\n",
       "        vertical-align: top;\n",
       "    }\n",
       "\n",
       "    .dataframe thead th {\n",
       "        text-align: right;\n",
       "    }\n",
       "</style>\n",
       "<table border=\"1\" class=\"dataframe\">\n",
       "  <thead>\n",
       "    <tr style=\"text-align: right;\">\n",
       "      <th></th>\n",
       "      <th>id</th>\n",
       "      <th>objectType</th>\n",
       "    </tr>\n",
       "  </thead>\n",
       "  <tbody>\n",
       "    <tr>\n",
       "      <th>CEO</th>\n",
       "      <td>0a87e996-34b4-46ba-909a-70ab67b1f811</td>\n",
       "      <td>ENTITY</td>\n",
       "    </tr>\n",
       "    <tr>\n",
       "      <th>Email address</th>\n",
       "      <td>0efd0441-1ffc-4e30-8806-e58c434770c8</td>\n",
       "      <td>STRING</td>\n",
       "    </tr>\n",
       "    <tr>\n",
       "      <th>YouTube channel</th>\n",
       "      <td>12acb8fe-0573-4ca8-8cc1-180cc6ba3486</td>\n",
       "      <td>ANY_URI</td>\n",
       "    </tr>\n",
       "    <tr>\n",
       "      <th>Total funding amount</th>\n",
       "      <td>13a7e8b6-7270-4c99-81e9-9d752e0c295c</td>\n",
       "      <td>FLOAT</td>\n",
       "    </tr>\n",
       "    <tr>\n",
       "      <th>Whitepaper</th>\n",
       "      <td>14fa743c-8161-42e8-a92f-5c29c70e87f8</td>\n",
       "      <td>ANY_URI</td>\n",
       "    </tr>\n",
       "    <tr>\n",
       "      <th>Full address</th>\n",
       "      <td>1551ee2a-f6a0-4a4b-b322-d98d3a696cf3</td>\n",
       "      <td>STRING</td>\n",
       "    </tr>\n",
       "    <tr>\n",
       "      <th>Pinterest</th>\n",
       "      <td>1d7d64c5-c4a1-4889-91c4-2d2da0424dcc</td>\n",
       "      <td>ANY_URI</td>\n",
       "    </tr>\n",
       "    <tr>\n",
       "      <th>Source Code</th>\n",
       "      <td>1e49b96d-f641-4226-91f0-ed42e6de742e</td>\n",
       "      <td>ANY_URI</td>\n",
       "    </tr>\n",
       "    <tr>\n",
       "      <th>Contact URL</th>\n",
       "      <td>27897e2f-5d08-40fe-904d-0b0647fa2ff4</td>\n",
       "      <td>ANY_URI</td>\n",
       "    </tr>\n",
       "    <tr>\n",
       "      <th>CEO of</th>\n",
       "      <td>3104de39-071c-47b8-86b4-d62ccc4a4fa6</td>\n",
       "      <td>ENTITY</td>\n",
       "    </tr>\n",
       "    <tr>\n",
       "      <th>Doctoral Thesis URL</th>\n",
       "      <td>33461e27-5454-43c3-b300-88c02a96c280</td>\n",
       "      <td>ANY_URI</td>\n",
       "    </tr>\n",
       "    <tr>\n",
       "      <th>Reddit URL</th>\n",
       "      <td>36d1a264-da26-4a1a-8f0e-726543749a5f</td>\n",
       "      <td>ANY_URI</td>\n",
       "    </tr>\n",
       "    <tr>\n",
       "      <th>Website</th>\n",
       "      <td>42cb158b-e836-45ed-9b56-034668b8f05a</td>\n",
       "      <td>ANY_URI</td>\n",
       "    </tr>\n",
       "    <tr>\n",
       "      <th>Start time</th>\n",
       "      <td>4b4ff1c9-a053-4bc3-87ef-0713453f9992</td>\n",
       "      <td>DATE_TIME</td>\n",
       "    </tr>\n",
       "    <tr>\n",
       "      <th>Coinmarketcap URL</th>\n",
       "      <td>5387126a-fa27-4a42-8c7f-bf813a6a893d</td>\n",
       "      <td>ANY_URI</td>\n",
       "    </tr>\n",
       "    <tr>\n",
       "      <th>Pitchbook URL</th>\n",
       "      <td>5bbcbd49-c255-4a6b-b84a-dc076849650d</td>\n",
       "      <td>ANY_URI</td>\n",
       "    </tr>\n",
       "    <tr>\n",
       "      <th>Thumbnail</th>\n",
       "      <td>60627261-4e6c-4ebf-8879-914576ade417</td>\n",
       "      <td>ANY_URI</td>\n",
       "    </tr>\n",
       "    <tr>\n",
       "      <th>Telegram</th>\n",
       "      <td>68d490c8-d8d3-4efe-9670-390df48e1ad6</td>\n",
       "      <td>ANY_URI</td>\n",
       "    </tr>\n",
       "    <tr>\n",
       "      <th>End time</th>\n",
       "      <td>6b95b113-e331-41bb-8e31-45b198a41ea8</td>\n",
       "      <td>DATE_TIME</td>\n",
       "    </tr>\n",
       "    <tr>\n",
       "      <th>Founder</th>\n",
       "      <td>71ad3d9e-e211-472b-a16d-861737c57ecd</td>\n",
       "      <td>ENTITY</td>\n",
       "    </tr>\n",
       "    <tr>\n",
       "      <th>Medium</th>\n",
       "      <td>71f46d7f-6667-4600-90bf-eb82fbba8e17</td>\n",
       "      <td>ANY_URI</td>\n",
       "    </tr>\n",
       "    <tr>\n",
       "      <th>Tiktok</th>\n",
       "      <td>7e593c0c-457a-464d-9dd2-8e1fc5a8b116</td>\n",
       "      <td>ANY_URI</td>\n",
       "    </tr>\n",
       "    <tr>\n",
       "      <th>Angellist URL</th>\n",
       "      <td>7f15d788-5df1-4ff3-a5e5-4c9e8e2c57af</td>\n",
       "      <td>ANY_URI</td>\n",
       "    </tr>\n",
       "    <tr>\n",
       "      <th>Description</th>\n",
       "      <td>7f3869c1-7dc9-4486-9045-6bade487a49d</td>\n",
       "      <td>STRING</td>\n",
       "    </tr>\n",
       "    <tr>\n",
       "      <th>Linkedin URL</th>\n",
       "      <td>8c4d6279-199f-4e46-9ef7-8702bad1e152</td>\n",
       "      <td>ANY_URI</td>\n",
       "    </tr>\n",
       "    <tr>\n",
       "      <th>Apple App Store Link</th>\n",
       "      <td>92ae90d8-d4f6-476b-9409-89b7d1b846c0</td>\n",
       "      <td>ANY_URI</td>\n",
       "    </tr>\n",
       "    <tr>\n",
       "      <th>Is a</th>\n",
       "      <td>94a8d215-ce32-4379-b18e-2aebf0794882</td>\n",
       "      <td>ENTITY</td>\n",
       "    </tr>\n",
       "    <tr>\n",
       "      <th>Twitter URL</th>\n",
       "      <td>9934d828-963f-403a-a0da-7a52e0224ef5</td>\n",
       "      <td>ANY_URI</td>\n",
       "    </tr>\n",
       "    <tr>\n",
       "      <th>Date of incorporation</th>\n",
       "      <td>9cb6d628-a0f8-48b0-9828-253596b6ad00</td>\n",
       "      <td>DATE_TIME</td>\n",
       "    </tr>\n",
       "    <tr>\n",
       "      <th>Name</th>\n",
       "      <td>a27218b8-6a4d-47bb-95b6-5a55334fac1c</td>\n",
       "      <td>STRING</td>\n",
       "    </tr>\n",
       "    <tr>\n",
       "      <th>Wikidata ID</th>\n",
       "      <td>b996dfba-6f3b-458e-bb98-61939160fd88</td>\n",
       "      <td>STRING</td>\n",
       "    </tr>\n",
       "    <tr>\n",
       "      <th>Golden ID</th>\n",
       "      <td>bb463b8b-b76c-4f6a-9726-65ab5730b69b</td>\n",
       "      <td>INTEGER</td>\n",
       "    </tr>\n",
       "    <tr>\n",
       "      <th>Phone number</th>\n",
       "      <td>c090be24-6c35-45d8-8a81-32e57a3d48dd</td>\n",
       "      <td>STRING</td>\n",
       "    </tr>\n",
       "    <tr>\n",
       "      <th>Discord URL</th>\n",
       "      <td>c094b0f7-d34c-4f5e-86b3-801da1c82091</td>\n",
       "      <td>ANY_URI</td>\n",
       "    </tr>\n",
       "    <tr>\n",
       "      <th>Instagram</th>\n",
       "      <td>db592366-1c4c-4087-821e-44699ddd29b6</td>\n",
       "      <td>ANY_URI</td>\n",
       "    </tr>\n",
       "    <tr>\n",
       "      <th>Github URL</th>\n",
       "      <td>e3d0cfb4-3ec1-4ef2-ae08-93fa07aa27dc</td>\n",
       "      <td>ANY_URI</td>\n",
       "    </tr>\n",
       "    <tr>\n",
       "      <th>Founder of</th>\n",
       "      <td>e4f94b98-c56a-4bd2-a9fd-5fd11603e7e8</td>\n",
       "      <td>ENTITY</td>\n",
       "    </tr>\n",
       "    <tr>\n",
       "      <th>Community Forum</th>\n",
       "      <td>f348c532-bffd-4ad1-b79c-34258d05c1cd</td>\n",
       "      <td>ANY_URI</td>\n",
       "    </tr>\n",
       "    <tr>\n",
       "      <th>Founded date</th>\n",
       "      <td>fa1a5ac7-480c-4e44-a545-b0f3dd9d24bf</td>\n",
       "      <td>DATE_TIME</td>\n",
       "    </tr>\n",
       "    <tr>\n",
       "      <th>Facebook URL</th>\n",
       "      <td>fa39c1f2-bf06-45e9-8995-da919472deb8</td>\n",
       "      <td>ANY_URI</td>\n",
       "    </tr>\n",
       "    <tr>\n",
       "      <th>Crunchbase URL</th>\n",
       "      <td>facb73aa-82db-45ff-bd87-5ce7983d8ca2</td>\n",
       "      <td>ANY_URI</td>\n",
       "    </tr>\n",
       "    <tr>\n",
       "      <th>Google Play Store Link</th>\n",
       "      <td>fb06b903-52af-4a79-9126-f2589c2ca881</td>\n",
       "      <td>ANY_URI</td>\n",
       "    </tr>\n",
       "  </tbody>\n",
       "</table>\n",
       "</div>"
      ],
      "text/plain": [
       "                                                          id objectType\n",
       "CEO                     0a87e996-34b4-46ba-909a-70ab67b1f811     ENTITY\n",
       "Email address           0efd0441-1ffc-4e30-8806-e58c434770c8     STRING\n",
       "YouTube channel         12acb8fe-0573-4ca8-8cc1-180cc6ba3486    ANY_URI\n",
       "Total funding amount    13a7e8b6-7270-4c99-81e9-9d752e0c295c      FLOAT\n",
       "Whitepaper              14fa743c-8161-42e8-a92f-5c29c70e87f8    ANY_URI\n",
       "Full address            1551ee2a-f6a0-4a4b-b322-d98d3a696cf3     STRING\n",
       "Pinterest               1d7d64c5-c4a1-4889-91c4-2d2da0424dcc    ANY_URI\n",
       "Source Code             1e49b96d-f641-4226-91f0-ed42e6de742e    ANY_URI\n",
       "Contact URL             27897e2f-5d08-40fe-904d-0b0647fa2ff4    ANY_URI\n",
       "CEO of                  3104de39-071c-47b8-86b4-d62ccc4a4fa6     ENTITY\n",
       "Doctoral Thesis URL     33461e27-5454-43c3-b300-88c02a96c280    ANY_URI\n",
       "Reddit URL              36d1a264-da26-4a1a-8f0e-726543749a5f    ANY_URI\n",
       "Website                 42cb158b-e836-45ed-9b56-034668b8f05a    ANY_URI\n",
       "Start time              4b4ff1c9-a053-4bc3-87ef-0713453f9992  DATE_TIME\n",
       "Coinmarketcap URL       5387126a-fa27-4a42-8c7f-bf813a6a893d    ANY_URI\n",
       "Pitchbook URL           5bbcbd49-c255-4a6b-b84a-dc076849650d    ANY_URI\n",
       "Thumbnail               60627261-4e6c-4ebf-8879-914576ade417    ANY_URI\n",
       "Telegram                68d490c8-d8d3-4efe-9670-390df48e1ad6    ANY_URI\n",
       "End time                6b95b113-e331-41bb-8e31-45b198a41ea8  DATE_TIME\n",
       "Founder                 71ad3d9e-e211-472b-a16d-861737c57ecd     ENTITY\n",
       "Medium                  71f46d7f-6667-4600-90bf-eb82fbba8e17    ANY_URI\n",
       "Tiktok                  7e593c0c-457a-464d-9dd2-8e1fc5a8b116    ANY_URI\n",
       "Angellist URL           7f15d788-5df1-4ff3-a5e5-4c9e8e2c57af    ANY_URI\n",
       "Description             7f3869c1-7dc9-4486-9045-6bade487a49d     STRING\n",
       "Linkedin URL            8c4d6279-199f-4e46-9ef7-8702bad1e152    ANY_URI\n",
       "Apple App Store Link    92ae90d8-d4f6-476b-9409-89b7d1b846c0    ANY_URI\n",
       "Is a                    94a8d215-ce32-4379-b18e-2aebf0794882     ENTITY\n",
       "Twitter URL             9934d828-963f-403a-a0da-7a52e0224ef5    ANY_URI\n",
       "Date of incorporation   9cb6d628-a0f8-48b0-9828-253596b6ad00  DATE_TIME\n",
       "Name                    a27218b8-6a4d-47bb-95b6-5a55334fac1c     STRING\n",
       "Wikidata ID             b996dfba-6f3b-458e-bb98-61939160fd88     STRING\n",
       "Golden ID               bb463b8b-b76c-4f6a-9726-65ab5730b69b    INTEGER\n",
       "Phone number            c090be24-6c35-45d8-8a81-32e57a3d48dd     STRING\n",
       "Discord URL             c094b0f7-d34c-4f5e-86b3-801da1c82091    ANY_URI\n",
       "Instagram               db592366-1c4c-4087-821e-44699ddd29b6    ANY_URI\n",
       "Github URL              e3d0cfb4-3ec1-4ef2-ae08-93fa07aa27dc    ANY_URI\n",
       "Founder of              e4f94b98-c56a-4bd2-a9fd-5fd11603e7e8     ENTITY\n",
       "Community Forum         f348c532-bffd-4ad1-b79c-34258d05c1cd    ANY_URI\n",
       "Founded date            fa1a5ac7-480c-4e44-a545-b0f3dd9d24bf  DATE_TIME\n",
       "Facebook URL            fa39c1f2-bf06-45e9-8995-da919472deb8    ANY_URI\n",
       "Crunchbase URL          facb73aa-82db-45ff-bd87-5ce7983d8ca2    ANY_URI\n",
       "Google Play Store Link  fb06b903-52af-4a79-9126-f2589c2ca881    ANY_URI"
      ]
     },
     "execution_count": 3,
     "metadata": {},
     "output_type": "execute_result"
    }
   ],
   "source": [
    "import pandas as pd\n",
    "\n",
    "predicates = {}\n",
    "for p in goldapi.predicates()[\"data\"][\"predicates\"][\"edges\"]:\n",
    "    p = p[\"node\"]\n",
    "    predicates[p[\"name\"]] = {\"id\": p[\"id\"], \"objectType\": p[\"objectType\"]} \n",
    "predicates_df = pd.DataFrame(predicates).transpose()\n",
    "predicates_df"
   ]
  },
  {
   "cell_type": "markdown",
   "id": "84ecae71-11fa-4d90-af24-c0a78c721e89",
   "metadata": {},
   "source": [
    "### 3. Create Triple\n",
    "\n",
    "First, view the `CreateStatementInput` object schema."
   ]
  },
  {
   "cell_type": "code",
   "execution_count": 4,
   "id": "e2eda5fb-fd10-433a-acf2-8fb9d5b13cb4",
   "metadata": {},
   "outputs": [
    {
     "data": {
      "text/plain": [
       "input CreateStatementInput {\n",
       "  clientMutationId: String\n",
       "  subjectId: UUID!\n",
       "  predicateId: UUID!\n",
       "  objectValue: String\n",
       "  objectEntityId: UUID\n",
       "  citationUrls: [String]\n",
       "  qualifiers: [QualifierInputRecordInput]\n",
       "}"
      ]
     },
     "execution_count": 4,
     "metadata": {},
     "output_type": "execute_result"
    }
   ],
   "source": [
    "from godel.schema import CreateStatementInput, StatementInputRecordInput\n",
    "\n",
    "CreateStatementInput"
   ]
  },
  {
   "cell_type": "markdown",
   "id": "eebbf439-ca61-436b-8314-95d5d68d8431",
   "metadata": {},
   "source": [
    "Now you can input your triple data. Make sure to check the predicate object type to ensure your object entity ID or object value matches the object type."
   ]
  },
  {
   "cell_type": "markdown",
   "id": "ce92daa9-8eff-4bf2-9700-63e0126ff104",
   "metadata": {},
   "source": [
    "#### Triple with Object Value Example"
   ]
  },
  {
   "cell_type": "code",
   "execution_count": 5,
   "id": "af66ddcc-2b3c-40e9-8594-de2ee39bc3ee",
   "metadata": {},
   "outputs": [],
   "source": [
    "# Triple data\n",
    "subject_id = search_results_df[\"id\"][0]  # Miles Wolff\n",
    "predicate_id = predicates_df[\"id\"][1]  # Email Address\n",
    "object_value = \"guide@example.com\"\n",
    "\n",
    "# Create statement input API\n",
    "create_statement_input = CreateStatementInput(\n",
    "    subject_id=subject_id,\n",
    "    predicate_id=predicate_id,\n",
    "    object_value=object_value,\n",
    "    citation_urls=[\"https://golden.com\"],\n",
    ")"
   ]
  },
  {
   "cell_type": "markdown",
   "id": "3dd2fd42-7f4b-4903-b97c-553185bd95f4",
   "metadata": {},
   "source": [
    "### WARNING: Running the code below may charge gas fees and stake testnet points with your wallet. You may lose testnet points by submitting incorrect data."
   ]
  },
  {
   "cell_type": "code",
   "execution_count": 6,
   "id": "ff7a5315-d485-44a3-a739-78eb6d9d3268",
   "metadata": {
    "tags": []
   },
   "outputs": [
    {
     "data": {
      "text/plain": [
       "{'data': {'createStatement': {'statement': {'__typename': 'Statement',\n",
       "    'id': '76d696d2-5295-4891-ae5a-3efdd9e5c084',\n",
       "    'dateAccepted': None,\n",
       "    'dateRejected': None,\n",
       "    'userId': '0xf39Fd6e51aad88F6F4ce6aB8827279cffFb92266',\n",
       "    'validationStatus': 'PENDING',\n",
       "    'subject': {'id': 'd95ef4b0-e006-4203-bfb4-adbe99f63ce7',\n",
       "     'pathname': '/entity/d95ef4b0-e006-4203-bfb4-adbe99f63ce7',\n",
       "     'name': 'Miles Wolff',\n",
       "     'thumbnail': 'https://cloudflare-ipfs.com/ipfs/Qmd3W5DuhgHirLHGVixi6V76LhCkZUz6pnFt5AJBiyvHye/avatar/1170.jpg'},\n",
       "    'predicate': {'id': '0efd0441-1ffc-4e30-8806-e58c434770c8',\n",
       "     'name': 'Email address',\n",
       "     'description': 'The email address associated with this entity that is 1. public (it is openly known the entity is associated with this email address) and 2. official (the entity has formally associated themselves with this phone number by posting it on a website, social media link, etc. that they are in control of).',\n",
       "     'label': 'Email address associated with an entity.',\n",
       "     'objectType': 'STRING',\n",
       "     'showInInfobox': True},\n",
       "    'objectValue': 'guide@example.com',\n",
       "    'objectEntity': None,\n",
       "    'citationsByTripleId': {'nodes': [{'url': 'https://golden.com'}]},\n",
       "    'qualifiersBySubjectId': {'nodes': []}}}}}"
      ]
     },
     "execution_count": 6,
     "metadata": {},
     "output_type": "execute_result"
    }
   ],
   "source": [
    "data = goldapi.create_statement(create_statement_input=create_statement_input)\n",
    "data"
   ]
  },
  {
   "cell_type": "markdown",
   "id": "eb11bae1-118e-467f-a01e-2a1cafe70c4c",
   "metadata": {},
   "source": [
    "#### Triple with Object Entity ID Example"
   ]
  },
  {
   "cell_type": "code",
   "execution_count": 7,
   "id": "99faad16-535d-4d85-84f0-154ee6cfac3c",
   "metadata": {},
   "outputs": [],
   "source": [
    "# Triple data\n",
    "subject_id = search_results_df[\"id\"][0]  # Miles Wolff\n",
    "predicate_id = \"e4f94b98-c56a-4bd2-a9fd-5fd11603e7e8\"  # CEO Of predicate\n",
    "object_entity_id = \"20ab9281-fd5f-4717-ab73-ecd24fff66fe\"  # Huel and Sons Entity ID\n",
    "\n",
    "# Create statement input API\n",
    "create_statement_input = CreateStatementInput(\n",
    "    subject_id=subject_id,\n",
    "    predicate_id=predicate_id,\n",
    "    object_entity_id=object_entity_id,\n",
    "    citation_urls=[\"https://golden.com\"],\n",
    ")"
   ]
  },
  {
   "cell_type": "markdown",
   "id": "728a3624-7527-4684-9c0e-f1cdfaf31db9",
   "metadata": {},
   "source": [
    "### WARNING: Running the code below may charge gas fees and stake testnet points with your wallet. You may lose testnet points by submitting incorrect data."
   ]
  },
  {
   "cell_type": "code",
   "execution_count": 8,
   "id": "e2f0a043-40ce-4e30-bf23-8385f3114d6f",
   "metadata": {},
   "outputs": [
    {
     "data": {
      "text/plain": [
       "{'data': {'createStatement': {'statement': {'__typename': 'Statement',\n",
       "    'id': '07d779a7-1f2c-4d29-a7d0-94e2decf6ad6',\n",
       "    'dateAccepted': None,\n",
       "    'dateRejected': None,\n",
       "    'userId': '0xf39Fd6e51aad88F6F4ce6aB8827279cffFb92266',\n",
       "    'validationStatus': 'PENDING',\n",
       "    'subject': {'id': 'd95ef4b0-e006-4203-bfb4-adbe99f63ce7',\n",
       "     'pathname': '/entity/d95ef4b0-e006-4203-bfb4-adbe99f63ce7',\n",
       "     'name': 'Miles Wolff',\n",
       "     'thumbnail': 'https://cloudflare-ipfs.com/ipfs/Qmd3W5DuhgHirLHGVixi6V76LhCkZUz6pnFt5AJBiyvHye/avatar/1170.jpg'},\n",
       "    'predicate': {'id': 'e4f94b98-c56a-4bd2-a9fd-5fd11603e7e8',\n",
       "     'name': 'Founder of',\n",
       "     'description': '',\n",
       "     'label': 'Entity that a person founded.',\n",
       "     'objectType': 'ENTITY',\n",
       "     'showInInfobox': True},\n",
       "    'objectValue': None,\n",
       "    'objectEntity': {'id': '20ab9281-fd5f-4717-ab73-ecd24fff66fe',\n",
       "     'pathname': '/entity/20ab9281-fd5f-4717-ab73-ecd24fff66fe',\n",
       "     'name': 'Huel and Sons',\n",
       "     'thumbnail': 'http://loremflickr.com/90/90/business'},\n",
       "    'citationsByTripleId': {'nodes': [{'url': 'https://golden.com'}]},\n",
       "    'qualifiersBySubjectId': {'nodes': []}}}}}"
      ]
     },
     "execution_count": 8,
     "metadata": {},
     "output_type": "execute_result"
    }
   ],
   "source": [
    "data = goldapi.create_statement(create_statement_input=create_statement_input)\n",
    "data"
   ]
  },
  {
   "cell_type": "code",
   "execution_count": null,
   "id": "b2ea2aa8-487c-4db4-9b41-1fa08b768632",
   "metadata": {},
   "outputs": [],
   "source": []
  }
 ],
 "metadata": {
  "kernelspec": {
   "display_name": "Python 3 (ipykernel)",
   "language": "python",
   "name": "python3"
  },
  "language_info": {
   "codemirror_mode": {
    "name": "ipython",
    "version": 3
   },
   "file_extension": ".py",
   "mimetype": "text/x-python",
   "name": "python",
   "nbconvert_exporter": "python",
   "pygments_lexer": "ipython3",
   "version": "3.8.10"
  }
 },
 "nbformat": 4,
 "nbformat_minor": 5
}
