{
 "cells": [
  {
   "cell_type": "markdown",
   "id": "28cb6338-0997-46f9-bf71-31ccfc71a976",
   "metadata": {},
   "source": [
    "# Disambiguate Triple\n",
    "\n",
    "Here is a short guide to disambiguating triples on the Golden protocol. Disambiguating triples is a core step in the data submission process. Before submitting any triples, you should disambiguate against any pre-existing triples that are similar if not identical to what you are submitting. This prevents duplicates from being submitted."
   ]
  },
  {
   "cell_type": "markdown",
   "id": "f7598da8-46d9-421e-a861-60e88c42c42a",
   "metadata": {},
   "source": [
    "## Prerequisite\n",
    "\n",
    "[Authentication](https://docs.golden.xyz/guides/authentication)\n",
    "\n",
    "[Godel Authentication](https://docs.golden.xyz/godel-python-sdk/authentication)"
   ]
  },
  {
   "cell_type": "markdown",
   "id": "bee98a0e-31e7-40cc-88ab-5164413c17dc",
   "metadata": {},
   "source": [
    "### 1. Connect to Golden Web3 API\n",
    "\n",
    "Let's connect the python wrapper to the Golden GraphQL API.\n",
    "\n",
    "Make sure you ran through the prerequisites for this guide and have learned to authenticate and retrieve your JWT token in Godel."
   ]
  },
  {
   "cell_type": "code",
   "execution_count": 1,
   "id": "1311f6af-03c5-4067-9bf1-c1667813e611",
   "metadata": {},
   "outputs": [],
   "source": [
    "from godel import GoldenAPI\n",
    "\n",
    "JWT_TOKEN = \"ey098sd908v79899789877986567967845jh567hj5679568df678678daf6786789s569ghm567457hm8g567n8678fb8790678sd56756n456h8d4f5gn865648\"\n",
    "goldapi = GoldenAPI(jwt_token=JWT_TOKEN)"
   ]
  },
  {
   "cell_type": "markdown",
   "id": "5b3ee311-36e2-4ebf-9b99-e6a01ffe0df6",
   "metadata": {},
   "source": [
    "### 2. Disambiguate triple\n",
    "\n",
    "In order to disambiguate a triple, you'll need a specify a the predicate and object value or entityID you'd like to add to your own subject."
   ]
  },
  {
   "cell_type": "code",
   "execution_count": 2,
   "id": "f994e866-764f-467c-813c-cb533493bc32",
   "metadata": {},
   "outputs": [],
   "source": [
    "predicates = \"Website\"\n",
    "objects = \"https://golden.com\""
   ]
  },
  {
   "cell_type": "code",
   "execution_count": 3,
   "id": "115e6fa1-0261-4811-87dd-f6fb266a87ab",
   "metadata": {},
   "outputs": [],
   "source": [
    "# Get disambiguated triple\n",
    "data = goldapi.disambiguate_triples(\n",
    "    predicates=predicates,\n",
    "    objects=objects,\n",
    "    validation_status=\"ACCEPTED\"\n",
    ")"
   ]
  },
  {
   "cell_type": "code",
   "execution_count": 4,
   "id": "36bb6806-b858-4c5c-abca-1570a41bede9",
   "metadata": {},
   "outputs": [
    {
     "data": {
      "text/plain": [
       "{'data': {'disambiguateTriples': {'errors': None,\n",
       "   'entities': [{'name': 'Golden',\n",
       "     'distance': 0,\n",
       "     'id': '378b1487-041e-4c1c-8c21-9cbf359d2d61',\n",
       "     'reputation': 1},\n",
       "    {'name': 'Golden',\n",
       "     'distance': 0,\n",
       "     'id': '2e05170c-b044-4d4d-90a1-bca3769a7c9e',\n",
       "     'reputation': 0.8943000934584384},\n",
       "    {'name': 'Golden',\n",
       "     'distance': 0,\n",
       "     'id': '5c0d11ad-b6e7-4d08-a0f1-6a224d93f3a1',\n",
       "     'reputation': 0.264345485495664},\n",
       "    {'name': 'Golden',\n",
       "     'distance': 0,\n",
       "     'id': '07c8ce4d-a5db-44af-9ffe-2ea137725488',\n",
       "     'reputation': 0.2557115227087651},\n",
       "    {'name': 'Golden',\n",
       "     'distance': 0,\n",
       "     'id': '88e5cf8e-c0bf-4e11-addf-27d54260a93e',\n",
       "     'reputation': 0.2557115227087651}]}}}"
      ]
     },
     "execution_count": 4,
     "metadata": {},
     "output_type": "execute_result"
    }
   ],
   "source": [
    "data"
   ]
  },
  {
   "cell_type": "markdown",
   "id": "6cb057c3-105b-4de1-84f4-9fd2975f5afa",
   "metadata": {},
   "source": [
    "### Disambiguate with multiple predicate/object pairs"
   ]
  },
  {
   "cell_type": "code",
   "execution_count": 25,
   "id": "10c6c202-8a47-4efe-b27f-b0d494b56dec",
   "metadata": {},
   "outputs": [],
   "source": [
    "predicates = [\"Name\", \"Wikidata ID\"]\n",
    "objects = [\"Golden\", \"Q1020179\"]"
   ]
  },
  {
   "cell_type": "code",
   "execution_count": 26,
   "id": "8b37b905-0763-4636-828a-fc9ae84cba5b",
   "metadata": {},
   "outputs": [],
   "source": [
    "# Get disambiguated triple\n",
    "data = goldapi.disambiguate_triples(\n",
    "    predicates=predicates,\n",
    "    objects=objects,\n",
    "    validation_status=\"PENDING\"\n",
    ")"
   ]
  },
  {
   "cell_type": "markdown",
   "id": "9e73fbc6-c6a1-4cf3-9585-14e68a265a85",
   "metadata": {},
   "source": [
    "Notice how the distance measure changes with the new triples we're disambiguating on"
   ]
  },
  {
   "cell_type": "code",
   "execution_count": 28,
   "id": "4d1e4a2e-a824-4648-9785-a32d20e062e8",
   "metadata": {},
   "outputs": [
    {
     "data": {
      "text/plain": [
       "{'data': {'disambiguateTriples': {'errors': None,\n",
       "   'entities': [{'name': 'Golden',\n",
       "     'distance': 0,\n",
       "     'id': '5c0d11ad-b6e7-4d08-a0f1-6a224d93f3a1',\n",
       "     'reputation': 0.23138016736911649},\n",
       "    {'name': 'Golden',\n",
       "     'distance': 0.5,\n",
       "     'id': '6086ed2c-3e45-4480-8ad6-aced06fac6fd',\n",
       "     'reputation': 1},\n",
       "    {'name': 'Golden',\n",
       "     'distance': 0.5,\n",
       "     'id': '378b1487-041e-4c1c-8c21-9cbf359d2d61',\n",
       "     'reputation': 0.8752945673926094},\n",
       "    {'name': 'Golden',\n",
       "     'distance': 0.5,\n",
       "     'id': '2e05170c-b044-4d4d-90a1-bca3769a7c9e',\n",
       "     'reputation': 0.782776013422874},\n",
       "    {'name': 'Golden',\n",
       "     'distance': 0.5,\n",
       "     'id': '07c8ce4d-a5db-44af-9ffe-2ea137725488',\n",
       "     'reputation': 0.22382290664667395},\n",
       "    {'name': 'Golden',\n",
       "     'distance': 0.5,\n",
       "     'id': '88e5cf8e-c0bf-4e11-addf-27d54260a93e',\n",
       "     'reputation': 0.22382290664667395}]}}}"
      ]
     },
     "execution_count": 28,
     "metadata": {},
     "output_type": "execute_result"
    }
   ],
   "source": [
    "data"
   ]
  },
  {
   "cell_type": "code",
   "execution_count": null,
   "id": "adb265bf-7243-4b2f-aa4f-31cee104a8d5",
   "metadata": {},
   "outputs": [],
   "source": []
  }
 ],
 "metadata": {
  "kernelspec": {
   "display_name": "Python 3 (ipykernel)",
   "language": "python",
   "name": "python3"
  },
  "language_info": {
   "codemirror_mode": {
    "name": "ipython",
    "version": 3
   },
   "file_extension": ".py",
   "mimetype": "text/x-python",
   "name": "python",
   "nbconvert_exporter": "python",
   "pygments_lexer": "ipython3",
   "version": "3.9.5"
  }
 },
 "nbformat": 4,
 "nbformat_minor": 5
}
