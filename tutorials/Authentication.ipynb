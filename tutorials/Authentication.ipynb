{
 "cells": [
  {
   "cell_type": "markdown",
   "id": "6607b15a-6326-4eab-90e6-f86106a65962",
   "metadata": {},
   "source": [
    "# Authentication"
   ]
  },
  {
   "cell_type": "markdown",
   "id": "dbdf6f38-5ab0-443f-b19c-7bf55407b055",
   "metadata": {},
   "source": [
    "## Prerequisite\n",
    "\n",
    "[QuickStart](https://docs.golden.xyz/godel-python-sdk/quickstart)\n",
    "\n",
    "This guide requires installation of [Web3.py](https://github.com/ethereum/web3.py).\n",
    "\n",
    "You can do this with `pip install godel[web3]` and comes pre-installed if using the godel docker image."
   ]
  },
  {
   "cell_type": "markdown",
   "id": "3e8a7626-5667-445b-8ca4-335575b6772d",
   "metadata": {},
   "source": [
    "### 1. Connect to Golden Web3 API\n",
    "Let's connect the python wrapper to the Golden GraphQL API.\n",
    "\n",
    "You can run your basic queries against the API without authenticating, but will be restricted from mutations and certain queries until you connect using your USER_ID (your wallet address) and PRIVATE_KEY (wallet secret)."
   ]
  },
  {
   "cell_type": "markdown",
   "id": "8603c449-f163-482e-8831-7209da4abb1b",
   "metadata": {},
   "source": [
    "Note: If you encounter errors with connection, ensure that the wallet being used has been connected to your profile at"
   ]
  },
  {
   "cell_type": "code",
   "execution_count": 6,
   "id": "de111c63-020e-437c-88a3-d0b8d60818a7",
   "metadata": {},
   "outputs": [],
   "source": [
    "USER_ID = \"0xd0587b87a875784568gf967679a58f578\"\n",
    "PRIVATE_KEY = \"65687a467467m357ghf476f5846578678a5858a658758ut58587674674x67567\""
   ]
  },
  {
   "cell_type": "code",
   "execution_count": 7,
   "id": "d42e63f1-d6ab-4eb5-a6c9-f1f95623c563",
   "metadata": {},
   "outputs": [],
   "source": [
    "from godel import GoldenAPI\n",
    "\n",
    "goldapi = GoldenAPI()"
   ]
  },
  {
   "cell_type": "markdown",
   "id": "865a2738-cfc3-41dc-92e1-38a9c546a675",
   "metadata": {},
   "source": [
    "### 2. Authenticate and set JWT"
   ]
  },
  {
   "cell_type": "markdown",
   "id": "1d3430c3-24fc-405e-8a05-c12a130cba7e",
   "metadata": {},
   "source": [
    "This will set the JWT token key in your GoldenAPI object so you should have permission to hit all endpoints after running the below."
   ]
  },
  {
   "cell_type": "code",
   "execution_count": null,
   "id": "5e97ef05-4196-458e-ba72-6ba5567fb31a",
   "metadata": {},
   "outputs": [],
   "source": [
    "# Retrieve one-off nonce from GraphQL API\n",
    "message_response = goldapi.get_authentication_message(user_id=USER_ID)\n",
    "message_response\n",
    "\n",
    "# Sign and verify nonce with your wallet's private key (KEEP THIS SECURE)\n",
    "from web3.auto import w3\n",
    "from eth_account.messages import encode_defunct\n",
    "\n",
    "message_string = message_response[\"data\"][\"getAuthenticationMessage\"][\"string\"]\n",
    "message = encode_defunct(text=message_string)\n",
    "signed_message = w3.eth.account.sign_message(message, private_key=PRIVATE_KEY)\n",
    "signature = signed_message.signature.hex()\n",
    "\n",
    "# Authenticate with Golden's API and you'll recieve a jwt bearer token\n",
    "auth_response = goldapi.authenticate(\n",
    "    user_id=USER_ID,\n",
    "    signature=signature\n",
    ")\n",
    "\n",
    "jwt_token = auth_response[\"data\"][\"authenticate\"][\"jwtToken\"]\n",
    "\n",
    "# Set JWT token to verify your wallet/role and unlock permissions to the rest of the API\n",
    "goldapi.set_jwt_token(jwt_token=jwt_token)\n",
    "\n",
    "print(\"Your JWT Token:\\n\", jwt_token)"
   ]
  },
  {
   "cell_type": "markdown",
   "id": "b0fbe014-f7ca-4569-af9f-cb484f38a7fc",
   "metadata": {},
   "source": [
    "#### Convenience Method for Authentication\n",
    "\n",
    "Runs the above authentication process in a secure and convenient method."
   ]
  },
  {
   "cell_type": "code",
   "execution_count": null,
   "id": "debe38ac-e0bc-4bbb-95ce-1f870d1fb8e3",
   "metadata": {},
   "outputs": [],
   "source": [
    "goldapi.get_authentication_token(\n",
    "    user_id=USER_ID,\n",
    "    wallet_private_key=PRIVATE_KEY\n",
    ")"
   ]
  },
  {
   "cell_type": "markdown",
   "id": "c4e88715-ed49-4f1a-b1e3-930be62e5777",
   "metadata": {},
   "source": [
    "#### Retrieve JWT Token from GUI\n",
    "\n",
    "Follow the directions at https://docs.golden.xyz/guides/authentication to skip the programmatic authentication and plainly retrieve your JWT token from https://dapp.golden.xyz."
   ]
  },
  {
   "cell_type": "markdown",
   "id": "2f6a663d-4b82-49ad-9eb2-c1b934c7cee2",
   "metadata": {},
   "source": [
    "### 3. Test with Graphql Calls\n",
    "\n",
    "Once authenticated, you'll now have permission to search, disambiguate, validate, and submit data to the Golden Protocol."
   ]
  },
  {
   "cell_type": "code",
   "execution_count": 17,
   "id": "8ade9e57-8dbd-4e7e-9c46-212860ad34db",
   "metadata": {},
   "outputs": [
    {
     "data": {
      "text/plain": [
       "{'data': {'entityByName': {'nodes': [{'id': '5c0d11ad-b6e7-4d08-a0f1-6a224d93f3a1',\n",
       "     'name': 'Golden',\n",
       "     'description': 'Golden is a company started in San Francisco, USA. The company is building an encyclopedia and knowledge tool. The founder and CEO of Golden is Jude Gomila.',\n",
       "     'thumbnail': 'https://golden-media.s3.amazonaws.com/topics/5253ceef-b9f0-49c5-ae0e-e6a445078551.png',\n",
       "     'goldenId': None,\n",
       "     'pathname': '/entity/5c0d11ad-b6e7-4d08-a0f1-6a224d93f3a1'},\n",
       "    {'id': '7baeabfe-5abe-4f91-a280-1a8d238544c2',\n",
       "     'name': 'Golden State Warriors',\n",
       "     'description': 'The Golden State Warriors of the National Basketball Association are a professional basketball team based in Oakland, California that competes in the Pacific Division of the Western Conference. Founded in 1946, the Warriors have won three NBA championships.',\n",
       "     'thumbnail': 'https://golden-storage-production.s3.amazonaws.com/topic_images/b49f887f78404364ac63b084db7e7d79.png',\n",
       "     'goldenId': '34936',\n",
       "     'pathname': '/entity/7baeabfe-5abe-4f91-a280-1a8d238544c2'},\n",
       "    {'id': '63d7e9ed-3d0c-429b-9fc4-4a6669f62426',\n",
       "     'name': 'Golden Eagle Award (Russia)',\n",
       "     'description': 'Russian film and television award',\n",
       "     'thumbnail': 'https://golden-storage-production.s3.amazonaws.com/topic_images/72ff934c054640b59d496605e2e1a6b2.png',\n",
       "     'goldenId': '838491',\n",
       "     'pathname': '/entity/63d7e9ed-3d0c-429b-9fc4-4a6669f62426'},\n",
       "    {'id': '3bb86c99-f521-48fa-ae03-7f4630f64767',\n",
       "     'name': 'Golden Star Resources',\n",
       "     'description': '',\n",
       "     'thumbnail': None,\n",
       "     'goldenId': '2273691',\n",
       "     'pathname': '/entity/3bb86c99-f521-48fa-ae03-7f4630f64767'},\n",
       "    {'id': '6bc05265-e744-4e87-a177-98f47ee0910b',\n",
       "     'name': 'Golden Light',\n",
       "     'description': None,\n",
       "     'thumbnail': None,\n",
       "     'goldenId': '4430269',\n",
       "     'pathname': '/entity/6bc05265-e744-4e87-a177-98f47ee0910b'},\n",
       "    {'id': 'ad0d5905-092c-41fa-8626-eafa0282b090',\n",
       "     'name': 'Golden Goose Deluxe Brand',\n",
       "     'description': None,\n",
       "     'thumbnail': 'https://golden-storage-production.s3.amazonaws.com/topic_images/7042a9df023a461c8aef08c385f1ffda.png',\n",
       "     'goldenId': '5048379',\n",
       "     'pathname': '/entity/ad0d5905-092c-41fa-8626-eafa0282b090'},\n",
       "    {'id': 'eddceeea-2f56-43d1-bfab-02b49749a016',\n",
       "     'name': 'Golden Link Plus',\n",
       "     'description': 'Company',\n",
       "     'thumbnail': 'https://golden-storage-production.s3.amazonaws.com/topic_images/c08a826d4ff94cb98cb5655363ff3b47.png',\n",
       "     'goldenId': '5385158',\n",
       "     'pathname': '/entity/eddceeea-2f56-43d1-bfab-02b49749a016'},\n",
       "    {'id': 'a1c8c3e8-3252-4930-89ff-ee1e07ae5ad4',\n",
       "     'name': 'Golden Triangle Angel Network',\n",
       "     'description': '',\n",
       "     'thumbnail': 'https://golden-storage-production.s3.amazonaws.com/topic_images/3fe466e1d9c24f71a4f9b4163ad16eda.jpeg',\n",
       "     'goldenId': '5864791',\n",
       "     'pathname': '/entity/a1c8c3e8-3252-4930-89ff-ee1e07ae5ad4'},\n",
       "    {'id': '4010b371-a216-4dc7-9243-daa863fb1204',\n",
       "     'name': 'Golden Ratio Coin',\n",
       "     'description': 'Golden Ratio Holdings is a blockchain-based real estate marketplace.',\n",
       "     'thumbnail': 'https://golden-storage-production.s3.amazonaws.com/topic_images/9abd07c7683f482c854f10c3661bac37.png',\n",
       "     'goldenId': '11794084',\n",
       "     'pathname': '/entity/4010b371-a216-4dc7-9243-daa863fb1204'},\n",
       "    {'id': '25c2fd7e-5d52-47a9-a666-72187c5e163e',\n",
       "     'name': 'Golden Ratio Per Liquidity',\n",
       "     'description': None,\n",
       "     'thumbnail': 'https://golden-storage-production.s3.amazonaws.com/topic_images/0b57ae51e5c34f71aded47f5011a08d6.png',\n",
       "     'goldenId': '11794461',\n",
       "     'pathname': '/entity/25c2fd7e-5d52-47a9-a666-72187c5e163e'},\n",
       "    {'id': 'cdd785ae-3923-46e9-bb8b-80deba364a3b',\n",
       "     'name': 'Golden Ocean Management AS',\n",
       "     'description': None,\n",
       "     'thumbnail': None,\n",
       "     'goldenId': '12665977',\n",
       "     'pathname': '/entity/cdd785ae-3923-46e9-bb8b-80deba364a3b'},\n",
       "    {'id': '843cf991-c25e-40b6-bc4a-154f1a6923bf',\n",
       "     'name': 'Golden Ocean Shipping Co Pte. Ltd.',\n",
       "     'description': None,\n",
       "     'thumbnail': None,\n",
       "     'goldenId': '12665978',\n",
       "     'pathname': '/entity/843cf991-c25e-40b6-bc4a-154f1a6923bf'},\n",
       "    {'id': '838dcb8c-13f5-45d8-a4b5-27a9e990c5df',\n",
       "     'name': 'Golden Bros',\n",
       "     'description': 'Offical Link WEBSITE: http://goldenbros.netmarble.com Facebook: http://facebook.com/GoldenBrosNM Twitter: https://twitter.com/GoldenBrosNM Discord: http://discord.gg/goldenbros',\n",
       "     'thumbnail': 'https://golden-storage-production.s3.amazonaws.com/topic_images/5ba2730ede9641f08fc1fd1779eea48f.png',\n",
       "     'goldenId': '12766503',\n",
       "     'pathname': '/entity/838dcb8c-13f5-45d8-a4b5-27a9e990c5df'},\n",
       "    {'id': 'bd22f60d-7754-40c7-be0a-80403c34ed2b',\n",
       "     'name': 'Golden Yachts',\n",
       "     'description': 'Yachts Fleet',\n",
       "     'thumbnail': 'https://golden-storage-production.s3.amazonaws.com/topic_images/27d0bc749f484e55b97a61bbd2adc223.png',\n",
       "     'goldenId': '12797348',\n",
       "     'pathname': '/entity/bd22f60d-7754-40c7-be0a-80403c34ed2b'},\n",
       "    {'id': '07747065-fadb-47f5-9915-d0a5ec63e8c4',\n",
       "     'name': 'Golden Rooster Awards',\n",
       "     'description': None,\n",
       "     'thumbnail': None,\n",
       "     'goldenId': '12858451',\n",
       "     'pathname': '/entity/07747065-fadb-47f5-9915-d0a5ec63e8c4'},\n",
       "    {'id': '39277dfa-09e8-43a5-9067-6a83613a93fa',\n",
       "     'name': 'California Golden Seals',\n",
       "     'description': 'Former hockey team of the national hockey league',\n",
       "     'thumbnail': 'https://golden-storage-production.s3.amazonaws.com/topic_images/6d7359c3eed14ac7b125f99525745538.png',\n",
       "     'goldenId': '129536',\n",
       "     'pathname': '/entity/39277dfa-09e8-43a5-9067-6a83613a93fa'},\n",
       "    {'id': 'f82ec64d-8ad1-480b-bee9-48656d61615b',\n",
       "     'name': 'Golden Lion',\n",
       "     'description': 'The highest prize given to a film at the venice film festival',\n",
       "     'thumbnail': None,\n",
       "     'goldenId': '595284',\n",
       "     'pathname': '/entity/f82ec64d-8ad1-480b-bee9-48656d61615b'},\n",
       "    {'id': '5394c0d0-be65-46a2-b6a1-2efb7e510320',\n",
       "     'name': 'Golden Dragon (company)',\n",
       "     'description': '',\n",
       "     'thumbnail': 'https://golden-media.s3.amazonaws.com/topics/300px-Golden_Dragon_logo_2.jpg',\n",
       "     'goldenId': '1647119',\n",
       "     'pathname': '/entity/5394c0d0-be65-46a2-b6a1-2efb7e510320'},\n",
       "    {'id': '049b461d-ef7f-433d-9603-3046120c7e1e',\n",
       "     'name': 'Golden Trailer Awards',\n",
       "     'description': 'Annual awards show that honors achievements in motion picture marketing, especially film trailers.',\n",
       "     'thumbnail': 'https://golden-storage-production.s3.amazonaws.com/topic_images/07ac8509b021459683eab3be2b704fe3.png',\n",
       "     'goldenId': '2264985',\n",
       "     'pathname': '/entity/049b461d-ef7f-433d-9603-3046120c7e1e'},\n",
       "    {'id': '0892f3d1-6c1a-443a-b143-624107ef5394',\n",
       "     'name': \"California Golden Bears women's basketball\",\n",
       "     'description': None,\n",
       "     'thumbnail': 'https://golden-media.s3.amazonaws.com/topics/300px-California_Golden_Bears_logo.svg.jpg',\n",
       "     'goldenId': '3682108',\n",
       "     'pathname': '/entity/0892f3d1-6c1a-443a-b143-624107ef5394'}]}},\n",
       " 'meta': {'graphqlQueryCost': 2}}"
      ]
     },
     "execution_count": 17,
     "metadata": {},
     "output_type": "execute_result"
    }
   ],
   "source": [
    "goldapi.entity_search(\"golden\")"
   ]
  },
  {
   "cell_type": "code",
   "execution_count": null,
   "id": "a76f1ded-bee5-4c17-9a44-3091fdd1fe76",
   "metadata": {},
   "outputs": [],
   "source": []
  }
 ],
 "metadata": {
  "kernelspec": {
   "display_name": "Python 3 (ipykernel)",
   "language": "python",
   "name": "python3"
  },
  "language_info": {
   "codemirror_mode": {
    "name": "ipython",
    "version": 3
   },
   "file_extension": ".py",
   "mimetype": "text/x-python",
   "name": "python",
   "nbconvert_exporter": "python",
   "pygments_lexer": "ipython3",
   "version": "3.8.10"
  }
 },
 "nbformat": 4,
 "nbformat_minor": 5
}
