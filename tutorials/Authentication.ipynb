{
 "cells": [
  {
   "cell_type": "markdown",
   "id": "6607b15a-6326-4eab-90e6-f86106a65962",
   "metadata": {},
   "source": [
    "# Authentication"
   ]
  },
  {
   "cell_type": "markdown",
   "id": "d7698066-598a-479d-9979-02a54207a661",
   "metadata": {},
   "source": [
    "# Authentication options\n",
    "\n",
    "To authenticate your account with the godel python SDK you have two options: you may retrieve your token from your profile page in the dApp or you may programmatically generate a key using your wallet address and secret keys."
   ]
  },
  {
   "cell_type": "markdown",
   "id": "97c37973-3fae-458f-bae9-78b61cdbaa86",
   "metadata": {},
   "source": [
    "# Retrieve JWT Token from dApp UI\n",
    "\n",
    "Easiest option: Follow the directions at [Authentication](https://docs.golden.xyz/api/authentication) to skip the programmatic authentication and plainly retrieve your JWT token from https://dapp.golden.xyz. "
   ]
  },
  {
   "cell_type": "markdown",
   "id": "dbdf6f38-5ab0-443f-b19c-7bf55407b055",
   "metadata": {},
   "source": [
    "## Prerequisite\n",
    "\n",
    "[QuickStart](https://docs.golden.xyz/godel-python-sdk/quickstart)\n",
    "\n",
    "This guide requires the installation of [Web3.py](https://github.com/ethereum/web3.py).\n",
    "\n",
    "You can do this with `pip install godel[web3]` and comes pre-installed if using the godel docker image."
   ]
  },
  {
   "cell_type": "markdown",
   "id": "3e8a7626-5667-445b-8ca4-335575b6772d",
   "metadata": {},
   "source": [
    "### 1. Connect to Golden Web3 API\n",
    "Let's connect the python wrapper to the Golden GraphQL API.\n",
    "\n",
    "You can run your basic queries against the API without authenticating, but will be restricted from mutations and certain queries until you connect using your USER_ID (your wallet address) and PRIVATE_KEY (wallet secret)."
   ]
  },
  {
   "cell_type": "markdown",
   "id": "8603c449-f163-482e-8831-7209da4abb1b",
   "metadata": {},
   "source": [
    "Note: If you encounter errors with connection, ensure that the wallet being used has been connected to your profile at"
   ]
  },
  {
   "cell_type": "code",
   "execution_count": null,
   "id": "de111c63-020e-437c-88a3-d0b8d60818a7",
   "metadata": {},
   "outputs": [],
   "source": [
    "USER_ID = #\"0x01234...YOUR_WALLET_ID_HERE\"\n",
    "PRIVATE_KEY = #\"YOUR_WALLET_SECRET_HERE\""
   ]
  },
  {
   "cell_type": "code",
   "execution_count": null,
   "id": "d42e63f1-d6ab-4eb5-a6c9-f1f95623c563",
   "metadata": {},
   "outputs": [],
   "source": [
    "from godel import GoldenAPI\n",
    "\n",
    "DAPP_URL = \"https://dapp.golden.xyz/graphql\"\n",
    "goldapi = GoldenAPI(url=DAPP_URL)"
   ]
  },
  {
   "cell_type": "markdown",
   "id": "865a2738-cfc3-41dc-92e1-38a9c546a675",
   "metadata": {},
   "source": [
    "### 2. Authenticate and set JWT"
   ]
  },
  {
   "cell_type": "markdown",
   "id": "1d3430c3-24fc-405e-8a05-c12a130cba7e",
   "metadata": {},
   "source": [
    "This will set the JWT token key in your GoldenAPI object so you should have permission to hit all endpoints after running the below."
   ]
  },
  {
   "cell_type": "code",
   "execution_count": null,
   "id": "5e97ef05-4196-458e-ba72-6ba5567fb31a",
   "metadata": {},
   "outputs": [],
   "source": [
    "# Retrieve one-off nonce from GraphQL API\n",
    "message_response = goldapi.get_authentication_message(user_id=USER_ID)\n",
    "message_response\n",
    "\n",
    "# Sign and verify nonce with your wallet's private key (KEEP THIS SECURE)\n",
    "from web3.auto import w3\n",
    "from eth_account.messages import encode_defunct\n",
    "\n",
    "message_string = message_response[\"data\"][\"getAuthenticationMessage\"][\"string\"]\n",
    "message = encode_defunct(text=message_string)\n",
    "signed_message = w3.eth.account.sign_message(message, private_key=PRIVATE_KEY)\n",
    "signature = signed_message.signature.hex()\n",
    "\n",
    "# Authenticate with Golden's API and you'll recieve a jwt bearer token\n",
    "auth_response = goldapi.authenticate(\n",
    "    user_id=USER_ID,\n",
    "    signature=signature\n",
    ")\n",
    "\n",
    "jwt_token = auth_response[\"data\"][\"authenticate\"][\"jwtToken\"]\n",
    "\n",
    "# Set JWT token to verify your wallet/role and unlock permissions to the rest of the API\n",
    "goldapi.set_jwt_token(jwt_token=jwt_token)\n",
    "\n",
    "print(\"Your JWT Token:\\n\", jwt_token)"
   ]
  },
  {
   "cell_type": "markdown",
   "id": "b0fbe014-f7ca-4569-af9f-cb484f38a7fc",
   "metadata": {},
   "source": [
    "#### Convenience Method for Authentication\n",
    "\n",
    "Runs the above authentication process in a secure and convenient method."
   ]
  },
  {
   "cell_type": "code",
   "execution_count": null,
   "id": "debe38ac-e0bc-4bbb-95ce-1f870d1fb8e3",
   "metadata": {},
   "outputs": [],
   "source": [
    "goldapi.get_authentication_token(\n",
    "    user_id=USER_ID,\n",
    "    wallet_private_key=PRIVATE_KEY\n",
    ")"
   ]
  },
  {
   "cell_type": "markdown",
   "id": "c4e88715-ed49-4f1a-b1e3-930be62e5777",
   "metadata": {},
   "source": [
    "#### Retrieve JWT Token from GUI\n",
    "\n",
    "Follow the directions at https://docs.golden.xyz/guides/authentication to skip the programmatic authentication and plainly retrieve your JWT token from https://dapp.golden.xyz."
   ]
  },
  {
   "cell_type": "markdown",
   "id": "2f6a663d-4b82-49ad-9eb2-c1b934c7cee2",
   "metadata": {},
   "source": [
    "### 3. Test with Graphql Calls\n",
    "\n",
    "Once authenticated, you'll now have permission to search, disambiguate, validate, and submit data to the Golden Protocol."
   ]
  },
  {
   "cell_type": "code",
   "execution_count": null,
   "id": "8ade9e57-8dbd-4e7e-9c46-212860ad34db",
   "metadata": {},
   "outputs": [],
   "source": [
    "goldapi.entity_search(\"golden\")"
   ]
  }
 ],
 "metadata": {
  "kernelspec": {
   "display_name": "Python 3 (ipykernel)",
   "language": "python",
   "name": "python3"
  },
  "language_info": {
   "codemirror_mode": {
    "name": "ipython",
    "version": 3
   },
   "file_extension": ".py",
   "mimetype": "text/x-python",
   "name": "python",
   "nbconvert_exporter": "python",
   "pygments_lexer": "ipython3",
   "version": "3.9.5"
  }
 },
 "nbformat": 4,
 "nbformat_minor": 5
}
