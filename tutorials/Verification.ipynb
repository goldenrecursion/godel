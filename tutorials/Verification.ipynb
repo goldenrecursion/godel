{
 "cells": [
  {
   "cell_type": "markdown",
   "id": "28cb6338-0997-46f9-bf71-31ccfc71a976",
   "metadata": {},
   "source": [
    "# Verification\n",
    "\n",
    "Here is a short guide to validating triples on the Golden protocol. Before casting votes, be sure to read the [Triple Validation Guide](https://docs.golden.xyz/protocol/guides/triple-verification-guide)"
   ]
  },
  {
   "cell_type": "markdown",
   "id": "f7598da8-46d9-421e-a861-60e88c42c42a",
   "metadata": {},
   "source": [
    "## Prerequisite\n",
    "\n",
    "Godel [Authentication](https://docs.golden.xyz/api/godel-python-sdk/authentication)"
   ]
  },
  {
   "cell_type": "markdown",
   "id": "bee98a0e-31e7-40cc-88ab-5164413c17dc",
   "metadata": {},
   "source": [
    "### 1. Connect to Golden Web3 API\n",
    "\n",
    "Let's connect the python wrapper to the Golden GraphQL API.\n",
    "\n",
    "Make sure you ran through the prerequisites for this guide and have learned to authenticate and retrieve your JWT token."
   ]
  },
  {
   "cell_type": "code",
   "execution_count": null,
   "id": "1311f6af-03c5-4067-9bf1-c1667813e611",
   "metadata": {},
   "outputs": [],
   "source": [
    "from godel import GoldenAPI\n",
    "\n",
    "JWT_TOKEN = \"\"#YOUR_JWT_TOKEN_HERE\n",
    "API_URL = \"https://sandbox.dapp.golden.xyz/graphql\"\n",
    "goldapi = GoldenAPI(url=API_URL)\n",
    "goldapi.set_jwt_token(jwt_token=JWT_TOKEN)"
   ]
  },
  {
   "cell_type": "markdown",
   "id": "5b3ee311-36e2-4ebf-9b99-e6a01ffe0df6",
   "metadata": {},
   "source": [
    "### 2. Retrieve unverified triple\n",
    "\n",
    "To retrieve a verification task from the verification queue use the unvalidated_triple()call. This will return a single unverified triple that has been assigned to your wallet."
   ]
  },
  {
   "cell_type": "code",
   "execution_count": null,
   "id": "115e6fa1-0261-4811-87dd-f6fb266a87ab",
   "metadata": {},
   "outputs": [],
   "source": [
    "# Get an unvalidated triple\n",
    "data = goldapi.unvalidated_triple()[\"data\"]\n",
    "unvalidated_triple = data[\"triple\"]\n",
    "unvalidated_triple"
   ]
  },
  {
   "cell_type": "markdown",
   "id": "ca5d2b80-309b-47c3-a7d2-cea591d5e854",
   "metadata": {},
   "source": [
    "### 4. Cast verification vote\n",
    "\n",
    "You can verify the triple by creating a validation mutation with your selected response: ACCEPTED, REJECTED, or SKIPPED. You can inspect the validation types using the protocol schema."
   ]
  },
  {
   "cell_type": "code",
   "execution_count": null,
   "id": "08e354df-1a90-48cf-b9e6-57b51558b9f6",
   "metadata": {},
   "outputs": [],
   "source": [
    "from godel.schema import ValidationType\n",
    "\n",
    "# Retrieve Choices for Validation\n",
    "ValidationType"
   ]
  },
  {
   "cell_type": "code",
   "execution_count": null,
   "id": "7d05de6c-489b-44b5-9079-b9837611bb64",
   "metadata": {},
   "outputs": [],
   "source": [
    "# Create validation with the triple id and your validation type\n",
    "triple_id = unvalidated_triple[\"id\"]\n",
    "validation_type = \"REJECTED\"\n",
    "triple_id"
   ]
  },
  {
   "cell_type": "markdown",
   "id": "9b69204c-26c8-4624-88c2-affdddc58194",
   "metadata": {},
   "source": [
    "### WARNING: Running the code below may charge gas fees and stake testnet points with your wallet. You may lose testnet points by submitting incorrect data."
   ]
  },
  {
   "cell_type": "code",
   "execution_count": null,
   "id": "ac3647ec-203a-4e5f-b091-750bf2dab34b",
   "metadata": {},
   "outputs": [],
   "source": [
    "# Create Validation\n",
    "goldapi.create_validation(\n",
    "    triple_id=triple_id,\n",
    "    validation_type=validation_type\n",
    ")"
   ]
  }
 ],
 "metadata": {
  "kernelspec": {
   "display_name": "Python 3 (ipykernel)",
   "language": "python",
   "name": "python3"
  },
  "language_info": {
   "codemirror_mode": {
    "name": "ipython",
    "version": 3
   },
   "file_extension": ".py",
   "mimetype": "text/x-python",
   "name": "python",
   "nbconvert_exporter": "python",
   "pygments_lexer": "ipython3",
   "version": "3.9.5"
  }
 },
 "nbformat": 4,
 "nbformat_minor": 5
}
