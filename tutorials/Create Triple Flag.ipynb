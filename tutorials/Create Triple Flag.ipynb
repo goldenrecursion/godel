{
 "cells": [
  {
   "cell_type": "markdown",
   "id": "9e8eb97b-c080-48d0-806c-1242fdb99428",
   "metadata": {},
   "source": [
    "# Create Triple Flag\n",
    "\n",
    "A short guide to adding triple flags to the Golden decentralized knowledge graph using the godel SDK. Please see the [Golden Protocol FAQ Guide](https://www.notion.so/goldenhq/Golden-Protocol-FAQ-78ae2357b9af44aeaa655cb1b1966ee4) and the [Adding Structured Data Guide](https://www.notion.so/goldenhq/Adding-Structured-Data-Guide-ae657337bf4f4e54ae4402df083c76ac) to learn more about Golden, data submission, and rewards."
   ]
  },
  {
   "cell_type": "markdown",
   "id": "3f5cdf0e-a6b1-4f06-bdb5-940cb36024f0",
   "metadata": {},
   "source": [
    "Note: Attribution and eligibility for testnet points on triple submissions will be assigned by the earliest timestamped transaction."
   ]
  },
  {
   "cell_type": "markdown",
   "id": "02122667-46e5-4bb3-a475-61f484327998",
   "metadata": {},
   "source": [
    "## Prerequisite\n",
    "\n",
    "Godel [Authentication](https://docs.golden.xyz/api/godel-python-sdk/authentication)\n",
    "\n",
    "This guide requires you install Godel's data-tools.\n",
    "\n",
    "You can do this with `pip install godel` and comes pre-installed if using the godel docker image."
   ]
  },
  {
   "cell_type": "markdown",
   "id": "c5e9a14d-f350-43f9-b7bc-ba12c7e79a04",
   "metadata": {},
   "source": [
    "### 1. Connect to Golden Web3 API\n",
    "\n",
    "Let's connect the python wrapper to the Golden GraphQL API.\n",
    "\n",
    "Make sure you ran through the prerequisites for this guide and have learned to authenticate and retrieve your JWT token in Godel."
   ]
  },
  {
   "cell_type": "code",
   "execution_count": null,
   "id": "a39d8755-e9db-4008-aa3e-4832cd1d53b7",
   "metadata": {},
   "outputs": [],
   "source": [
    "from godel import GoldenAPI\n",
    "\n",
    "JWT_TOKEN = #YOUR_JWT_TOKEN_HERE\n",
    "API_URL = \"https://dapp.golden.xyz/graphql\"\n",
    "SANDBOX_URL = \"https://sandbox.dapp.golden.xyz/graphql\" # Use the sandbox API to test your submissions\n",
    "goldapi = GoldenAPI(url=SANDBOX_URL)\n",
    "goldapi.set_jwt_token(jwt_token=JWT_TOKEN)"
   ]
  },
  {
   "cell_type": "markdown",
   "id": "84ecae71-11fa-4d90-af24-c0a78c721e89",
   "metadata": {},
   "source": [
    "### 2. Create Triple Flag\n",
    "\n",
    "First, view the `CreateTripleFlagInput` object schema."
   ]
  },
  {
   "cell_type": "code",
   "execution_count": null,
   "id": "e2eda5fb-fd10-433a-acf2-8fb9d5b13cb4",
   "metadata": {},
   "outputs": [],
   "source": [
    "from godel.schema import CreateTripleFlagInput, TripleFlagType\n",
    "\n",
    "CreateTripleFlagInput"
   ]
  },
  {
   "cell_type": "code",
   "execution_count": null,
   "id": "1239cd56-f6bf-45b5-a385-d9bdf9ae8d0d",
   "metadata": {},
   "outputs": [],
   "source": [
    "TripleFlagType"
   ]
  },
  {
   "cell_type": "markdown",
   "id": "eebbf439-ca61-436b-8314-95d5d68d8431",
   "metadata": {},
   "source": [
    "Now you can input your triple flag data. Make sure to check the predicate object type to ensure your object entity ID or object value matches the object type."
   ]
  },
  {
   "cell_type": "markdown",
   "id": "ce92daa9-8eff-4bf2-9700-63e0126ff104",
   "metadata": {},
   "source": [
    "#### Triple Flag with Reason"
   ]
  },
  {
   "cell_type": "code",
   "execution_count": null,
   "id": "af66ddcc-2b3c-40e9-8594-de2ee39bc3ee",
   "metadata": {},
   "outputs": [],
   "source": [
    "# Triple data\n",
    "triple_id = \"0a295e98-0d73-47e5-8e10-04eb3af58450\"\n",
    "flag = \"WRONG\"\n",
    "reason = \"This object value is not relevant.\" # Optional\n",
    "\n",
    "# Create statement input API\n",
    "create_triple_flag_input = CreateTripleFlagInput(\n",
    "    triple_id = triple_id,\n",
    "    flag = flag,\n",
    "    reason = reason,\n",
    ")"
   ]
  },
  {
   "cell_type": "markdown",
   "id": "3dd2fd42-7f4b-4903-b97c-553185bd95f4",
   "metadata": {},
   "source": [
    "### WARNING: Running the code below may charge gas fees and stake testnet points with your wallet. You may lose testnet points by submitting incorrect data."
   ]
  },
  {
   "cell_type": "code",
   "execution_count": null,
   "id": "ff7a5315-d485-44a3-a739-78eb6d9d3268",
   "metadata": {
    "tags": []
   },
   "outputs": [],
   "source": [
    "data = goldapi.create_triple_flag(create_triple_flag_input=create_triple_flag_input)\n",
    "data"
   ]
  }
 ],
 "metadata": {
  "kernelspec": {
   "display_name": "Python 3 (ipykernel)",
   "language": "python",
   "name": "python3"
  },
  "language_info": {
   "codemirror_mode": {
    "name": "ipython",
    "version": 3
   },
   "file_extension": ".py",
   "mimetype": "text/x-python",
   "name": "python",
   "nbconvert_exporter": "python",
   "pygments_lexer": "ipython3",
   "version": "3.9.5"
  },
  "vscode": {
   "interpreter": {
    "hash": "7f0162e0494ffd197d4c84e1c52fbcf566b58529937a5cd0230e5e855992544a"
   }
  }
 },
 "nbformat": 4,
 "nbformat_minor": 5
}
