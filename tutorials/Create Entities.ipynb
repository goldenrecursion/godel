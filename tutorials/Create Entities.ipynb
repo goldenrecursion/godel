{
 "cells": [
  {
   "cell_type": "markdown",
   "id": "9e8eb97b-c080-48d0-806c-1242fdb99428",
   "metadata": {},
   "source": [
    "# Create Entities\n",
    "\n",
    "A short guide to adding Entities with Minimum Disambiguation Triples(MDTs) to the Golden decentralized knowledge graph using the godel SDK. Please see the [Golden Protocol FAQ Guide](https://www.notion.so/goldenhq/Golden-Protocol-FAQ-78ae2357b9af44aeaa655cb1b1966ee4) and the [Adding Structured Data Guide](https://www.notion.so/goldenhq/Adding-Structured-Data-Guide-ae657337bf4f4e54ae4402df083c76ac) to learn more about Golden, data submission, and rewards."
   ]
  },
  {
   "cell_type": "markdown",
   "id": "f1ff510c-6af8-40f8-8414-850bdd1dbe84",
   "metadata": {},
   "source": [
    "Note: Attribution and eligibility for testnet points on triple submissions will be assigned by the earliest timestamped transaction."
   ]
  },
  {
   "cell_type": "markdown",
   "id": "6687099d-6cb1-451b-872c-2c38ab859364",
   "metadata": {},
   "source": [
    "## Prerequisite\n",
    "\n",
    "[Authentication](https://docs.golden.xyz/guides/authentication)\n",
    "\n",
    "[Godel Authentication](https://docs.golden.xyz/godel-python-sdk/authentication)"
   ]
  },
  {
   "cell_type": "markdown",
   "id": "c5e9a14d-f350-43f9-b7bc-ba12c7e79a04",
   "metadata": {},
   "source": [
    "### 1. Connect to Golden Web3 API\n",
    "\n",
    "Let's connect the python wrapper to the Golden GraphQL API.\n",
    "\n",
    "Make sure you ran through the prerequisites for this guide and have learned to authenticate and retrieve your JWT token in Godel."
   ]
  },
  {
   "cell_type": "code",
   "execution_count": 1,
   "id": "a39d8755-e9db-4008-aa3e-4832cd1d53b7",
   "metadata": {},
   "outputs": [],
   "source": [
    "from godel import GoldenAPI\n",
    "\n",
    "JWT_TOKEN = \"ey098sd908v79899789877986567967845jh567hj5679568df678678daf6786789s569ghm567457hm8g567n8678fb8790678sd56756n456h8d4f5gn865648\"\n",
    "goldapi = GoldenAPI(jwt_token=JWT_TOKEN)"
   ]
  },
  {
   "cell_type": "code",
   "execution_count": 2,
   "id": "23da262e-c30c-44cf-8c49-e347feacb6bb",
   "metadata": {
    "tags": []
   },
   "outputs": [
    {
     "data": {
      "text/html": [
       "<div>\n",
       "<style scoped>\n",
       "    .dataframe tbody tr th:only-of-type {\n",
       "        vertical-align: middle;\n",
       "    }\n",
       "\n",
       "    .dataframe tbody tr th {\n",
       "        vertical-align: top;\n",
       "    }\n",
       "\n",
       "    .dataframe thead th {\n",
       "        text-align: right;\n",
       "    }\n",
       "</style>\n",
       "<table border=\"1\" class=\"dataframe\">\n",
       "  <thead>\n",
       "    <tr style=\"text-align: right;\">\n",
       "      <th></th>\n",
       "      <th>id</th>\n",
       "      <th>name</th>\n",
       "      <th>description</th>\n",
       "      <th>thumbnail</th>\n",
       "      <th>goldenId</th>\n",
       "      <th>pathname</th>\n",
       "    </tr>\n",
       "  </thead>\n",
       "  <tbody>\n",
       "    <tr>\n",
       "      <th>0</th>\n",
       "      <td>d95ef4b0-e006-4203-bfb4-adbe99f63ce7</td>\n",
       "      <td>Miles Wolff</td>\n",
       "      <td>Id nihil blanditiis eius fugit odit blanditiis...</td>\n",
       "      <td>https://cloudflare-ipfs.com/ipfs/Qmd3W5DuhgHir...</td>\n",
       "      <td>None</td>\n",
       "      <td>/entity/d95ef4b0-e006-4203-bfb4-adbe99f63ce7</td>\n",
       "    </tr>\n",
       "  </tbody>\n",
       "</table>\n",
       "</div>"
      ],
      "text/plain": [
       "                                     id         name  \\\n",
       "0  d95ef4b0-e006-4203-bfb4-adbe99f63ce7  Miles Wolff   \n",
       "\n",
       "                                         description  \\\n",
       "0  Id nihil blanditiis eius fugit odit blanditiis...   \n",
       "\n",
       "                                           thumbnail goldenId  \\\n",
       "0  https://cloudflare-ipfs.com/ipfs/Qmd3W5DuhgHir...     None   \n",
       "\n",
       "                                       pathname  \n",
       "0  /entity/d95ef4b0-e006-4203-bfb4-adbe99f63ce7  "
      ]
     },
     "execution_count": 2,
     "metadata": {},
     "output_type": "execute_result"
    }
   ],
   "source": [
    "import pandas as pd\n",
    "\n",
    "# Test with search\n",
    "search_results = goldapi.entity_search(name=\"Miles\")\n",
    "search_results_df = pd.DataFrame(search_results[\"data\"][\"entityByName\"][\"nodes\"])\n",
    "search_results_df"
   ]
  },
  {
   "cell_type": "markdown",
   "id": "ea07bae9-8bb7-4180-933d-87456f7a1fc8",
   "metadata": {},
   "source": [
    "### 2. Get Predicates and Templates\n",
    "\n",
    "You can run the code below to get the list of accepted predicates into the knowledge graph, its data types, and submit templates for different kinds of entities."
   ]
  },
  {
   "cell_type": "code",
   "execution_count": 12,
   "id": "1150a6ee-5cd6-4831-9ce7-1ce7564658bc",
   "metadata": {
    "tags": []
   },
   "outputs": [
    {
     "data": {
      "text/html": [
       "<div>\n",
       "<style scoped>\n",
       "    .dataframe tbody tr th:only-of-type {\n",
       "        vertical-align: middle;\n",
       "    }\n",
       "\n",
       "    .dataframe tbody tr th {\n",
       "        vertical-align: top;\n",
       "    }\n",
       "\n",
       "    .dataframe thead th {\n",
       "        text-align: right;\n",
       "    }\n",
       "</style>\n",
       "<table border=\"1\" class=\"dataframe\">\n",
       "  <thead>\n",
       "    <tr style=\"text-align: right;\">\n",
       "      <th></th>\n",
       "      <th>id</th>\n",
       "      <th>objectType</th>\n",
       "    </tr>\n",
       "  </thead>\n",
       "  <tbody>\n",
       "    <tr>\n",
       "      <th>CEO</th>\n",
       "      <td>0a87e996-34b4-46ba-909a-70ab67b1f811</td>\n",
       "      <td>ENTITY</td>\n",
       "    </tr>\n",
       "    <tr>\n",
       "      <th>Email address</th>\n",
       "      <td>0efd0441-1ffc-4e30-8806-e58c434770c8</td>\n",
       "      <td>STRING</td>\n",
       "    </tr>\n",
       "    <tr>\n",
       "      <th>YouTube channel</th>\n",
       "      <td>12acb8fe-0573-4ca8-8cc1-180cc6ba3486</td>\n",
       "      <td>ANY_URI</td>\n",
       "    </tr>\n",
       "    <tr>\n",
       "      <th>Total funding amount</th>\n",
       "      <td>13a7e8b6-7270-4c99-81e9-9d752e0c295c</td>\n",
       "      <td>FLOAT</td>\n",
       "    </tr>\n",
       "    <tr>\n",
       "      <th>Whitepaper</th>\n",
       "      <td>14fa743c-8161-42e8-a92f-5c29c70e87f8</td>\n",
       "      <td>ANY_URI</td>\n",
       "    </tr>\n",
       "  </tbody>\n",
       "</table>\n",
       "</div>"
      ],
      "text/plain": [
       "                                                        id objectType\n",
       "CEO                   0a87e996-34b4-46ba-909a-70ab67b1f811     ENTITY\n",
       "Email address         0efd0441-1ffc-4e30-8806-e58c434770c8     STRING\n",
       "YouTube channel       12acb8fe-0573-4ca8-8cc1-180cc6ba3486    ANY_URI\n",
       "Total funding amount  13a7e8b6-7270-4c99-81e9-9d752e0c295c      FLOAT\n",
       "Whitepaper            14fa743c-8161-42e8-a92f-5c29c70e87f8    ANY_URI"
      ]
     },
     "execution_count": 12,
     "metadata": {},
     "output_type": "execute_result"
    }
   ],
   "source": [
    "import pandas as pd\n",
    "\n",
    "predicates = {}\n",
    "for p in goldapi.predicates()[\"data\"][\"predicates\"][\"edges\"]:\n",
    "    p = p[\"node\"]\n",
    "    predicates[p[\"name\"]] = {\"id\": p[\"id\"], \"objectType\": p[\"objectType\"]} \n",
    "predicates_df = pd.DataFrame(predicates).transpose()\n",
    "predicates_df.head()"
   ]
  },
  {
   "cell_type": "code",
   "execution_count": 4,
   "id": "920e3e9c-9e75-43f7-a2d0-443bfc2bc11e",
   "metadata": {},
   "outputs": [
    {
     "data": {
      "text/html": [
       "<div>\n",
       "<style scoped>\n",
       "    .dataframe tbody tr th:only-of-type {\n",
       "        vertical-align: middle;\n",
       "    }\n",
       "\n",
       "    .dataframe tbody tr th {\n",
       "        vertical-align: top;\n",
       "    }\n",
       "\n",
       "    .dataframe thead th {\n",
       "        text-align: right;\n",
       "    }\n",
       "</style>\n",
       "<table border=\"1\" class=\"dataframe\">\n",
       "  <thead>\n",
       "    <tr style=\"text-align: right;\">\n",
       "      <th></th>\n",
       "      <th>id</th>\n",
       "      <th>entityId</th>\n",
       "      <th>entityDescription</th>\n",
       "    </tr>\n",
       "  </thead>\n",
       "  <tbody>\n",
       "    <tr>\n",
       "      <th>Person</th>\n",
       "      <td>0dea0f27-ce0c-4b4f-8ddb-5ff6adb57e12</td>\n",
       "      <td>0c4e6054-5fd8-48a8-817c-f6611278f755</td>\n",
       "      <td>None</td>\n",
       "    </tr>\n",
       "    <tr>\n",
       "      <th>Company</th>\n",
       "      <td>9553f193-a46a-4b46-9c0f-5287289644a6</td>\n",
       "      <td>0a9fcc89-e14b-47af-85c3-8465ca607c29</td>\n",
       "      <td>None</td>\n",
       "    </tr>\n",
       "  </tbody>\n",
       "</table>\n",
       "</div>"
      ],
      "text/plain": [
       "                                           id  \\\n",
       "Person   0dea0f27-ce0c-4b4f-8ddb-5ff6adb57e12   \n",
       "Company  9553f193-a46a-4b46-9c0f-5287289644a6   \n",
       "\n",
       "                                     entityId entityDescription  \n",
       "Person   0c4e6054-5fd8-48a8-817c-f6611278f755              None  \n",
       "Company  0a9fcc89-e14b-47af-85c3-8465ca607c29              None  "
      ]
     },
     "execution_count": 4,
     "metadata": {},
     "output_type": "execute_result"
    }
   ],
   "source": [
    "templates = {}\n",
    "for t in goldapi.templates()[\"data\"][\"templates\"][\"edges\"]:\n",
    "    t = t[\"node\"]\n",
    "    templates[t[\"entity\"][\"name\"]] = {\"id\": t[\"id\"], \"entityId\": t[\"entityId\"], \"entityDescription\": t[\"entity\"][\"description\"]} \n",
    "templates_df = pd.DataFrame(templates).transpose()\n",
    "templates_df"
   ]
  },
  {
   "cell_type": "markdown",
   "id": "a2705ded-9fa8-4e64-a882-53cb1892b1f5",
   "metadata": {},
   "source": [
    "### 4. Create Entity"
   ]
  },
  {
   "cell_type": "markdown",
   "id": "2d190258-885b-45c7-9122-c24f0cb7840a",
   "metadata": {},
   "source": [
    "#### Source Data"
   ]
  },
  {
   "cell_type": "markdown",
   "id": "595f0c04-3abb-4d56-a86f-529a4afbbcb7",
   "metadata": {},
   "source": [
    "We need source data on the entity you would like to submit"
   ]
  },
  {
   "cell_type": "code",
   "execution_count": 5,
   "id": "c77de7ad-7832-443f-939c-07133c769ce8",
   "metadata": {},
   "outputs": [],
   "source": [
    "name = \"John Doe\"\n",
    "is_a = \"0c4e6054-5fd8-48a8-817c-f6611278f755\"  # Persion Template Entity Id\n",
    "ceo_of = \"20ab9281-fd5f-4717-ab73-ecd24fff66fe\"  # Huel and Sons Entity ID\n",
    "email_address = \"john.doe@example.com\"\n",
    "citation_urls = [\"https://golden.com/wiki/johndoe\"]"
   ]
  },
  {
   "cell_type": "markdown",
   "id": "e189d3aa-e901-470d-9f09-72d58838d0f8",
   "metadata": {},
   "source": [
    "#### Create Entity Input"
   ]
  },
  {
   "cell_type": "markdown",
   "id": "fb8fa1ac-a108-4a1a-9de4-cfbef98f22b1",
   "metadata": {},
   "source": [
    "We're going to create the `CreateEntityInput`, which requires Minimum Disambiguated Triples (MDTs).\n",
    "\n",
    "MDTs are the required triples you must submit along with the entity you want to create.\n",
    "\n",
    "This helps us with disambiguation, deduplication, and arbitrary entity submissions with zero triples."
   ]
  },
  {
   "cell_type": "code",
   "execution_count": 6,
   "id": "74dbfe06-117c-4121-afa1-d58a1b6bae99",
   "metadata": {},
   "outputs": [
    {
     "name": "stdout",
     "output_type": "stream",
     "text": [
      "input CreateEntityInput {\n",
      "  clientMutationId: String\n",
      "  name: String!\n",
      "  statements: [StatementInputRecordInput]\n",
      "}\n"
     ]
    },
    {
     "data": {
      "text/plain": [
       "input StatementInputRecordInput {\n",
       "  predicateId: UUID!\n",
       "  objectValue: String\n",
       "  objectEntityId: UUID\n",
       "  citationUrls: [String]\n",
       "  qualifiers: [QualifierInputRecordInput]\n",
       "}"
      ]
     },
     "execution_count": 6,
     "metadata": {},
     "output_type": "execute_result"
    }
   ],
   "source": [
    "from godel.schema import CreateEntityInput, StatementInputRecordInput\n",
    "\n",
    "print(repr(CreateEntityInput))\n",
    "StatementInputRecordInput"
   ]
  },
  {
   "cell_type": "markdown",
   "id": "89a3207b-d34b-4e29-a717-6ddb3bf71c61",
   "metadata": {},
   "source": [
    "First, create your triples with the `StatementInputRecordInput`'s.\n",
    "\n",
    "You'll notice that the \"CEO of\" statement is commented out. Without this, even if you have the email address statement, you will not be able to submit the entity since it does not fulfill the MDTs required.\n",
    "\n",
    "Remove the comment-out of the \"CEO of\" statement to succesfully submit the entity."
   ]
  },
  {
   "cell_type": "code",
   "execution_count": 12,
   "id": "011cdf1e-2961-41cd-8926-ef0c4de9793c",
   "metadata": {},
   "outputs": [],
   "source": [
    "# Create triples inputs\n",
    "statements = []\n",
    "\n",
    "# Add Template\n",
    "statements.append(\n",
    "    StatementInputRecordInput(\n",
    "        predicate_id = predicates[\"Is a\"][\"id\"],\n",
    "        object_entity_id = is_a,\n",
    "        citation_urls = citation_urls,\n",
    "        qualifiers = [],\n",
    "    )\n",
    ")\n",
    "\n",
    "# Add Email Address\n",
    "statements.append(\n",
    "    StatementInputRecordInput(\n",
    "        predicate_id = predicates[\"Email address\"][\"id\"],\n",
    "        object_value = email_address,\n",
    "        citation_urls = citation_urls,\n",
    "        qualifiers = [],\n",
    "    )\n",
    ")\n",
    "\n",
    "# Add CEO of\n",
    "# statements.append(\n",
    "#     StatementInputRecordInput(\n",
    "#         predicate_id = predicates[\"CEO of\"][\"id\"],\n",
    "#         object_entity_id = ceo_of,\n",
    "#         citation_urls = citation_urls,\n",
    "#         qualifiers = [],\n",
    "#     )\n",
    "# )"
   ]
  },
  {
   "cell_type": "markdown",
   "id": "da8b4427-6a46-437f-97cf-7ac45f6f9734",
   "metadata": {},
   "source": [
    "Now that you have the statements, you can create your `CreateEntityInput`."
   ]
  },
  {
   "cell_type": "code",
   "execution_count": 13,
   "id": "ede39730-3318-428f-8076-76f1ad674466",
   "metadata": {},
   "outputs": [
    {
     "data": {
      "text/plain": [
       "{'name': 'John Doe',\n",
       " 'statements': [{'predicateId': '94a8d215-ce32-4379-b18e-2aebf0794882',\n",
       "   'objectEntityId': '0c4e6054-5fd8-48a8-817c-f6611278f755',\n",
       "   'citationUrls': ['https://golden.com/wiki/johndoe'],\n",
       "   'qualifiers': []},\n",
       "  {'predicateId': '0efd0441-1ffc-4e30-8806-e58c434770c8',\n",
       "   'objectValue': 'john.doe@example.com',\n",
       "   'citationUrls': ['https://golden.com/wiki/johndoe'],\n",
       "   'qualifiers': []}]}"
      ]
     },
     "execution_count": 13,
     "metadata": {},
     "output_type": "execute_result"
    }
   ],
   "source": [
    "# Create Entity Input\n",
    "create_entity_input = CreateEntityInput(\n",
    "    name = name,\n",
    "    statements = statements\n",
    ")\n",
    "create_entity_input.__to_json_value__()"
   ]
  },
  {
   "cell_type": "markdown",
   "id": "3dd2fd42-7f4b-4903-b97c-553185bd95f4",
   "metadata": {},
   "source": [
    "### WARNING: Running the code below may charge gas fees and stake testnet points with your wallet. You may lose testnet points by submitting incorrect data."
   ]
  },
  {
   "cell_type": "markdown",
   "id": "f9ad45b1-ff0e-4f80-af83-6a9c5bcb2908",
   "metadata": {},
   "source": [
    "#### Submit entity data to protocol"
   ]
  },
  {
   "cell_type": "code",
   "execution_count": 14,
   "id": "ff7a5315-d485-44a3-a739-78eb6d9d3268",
   "metadata": {
    "tags": []
   },
   "outputs": [
    {
     "name": "stderr",
     "output_type": "stream",
     "text": [
      "GraphQL query failed with 1 errors\n"
     ]
    },
    {
     "data": {
      "text/plain": [
       "{'errors': [{'extensions': {'messages': [], 'exception': {}},\n",
       "   'message': 'All required statements must be provided:\\n- entity type \"person\" must have a statement from at least one of these predicates: \"website\", \"angelListUrl\", \"linkedInUrl\", \"founderOf\", \"ceoOf\"',\n",
       "   'locations': [{'line': 2, 'column': 1}],\n",
       "   'path': ['createEntity'],\n",
       "   'stack': ['Error: All required statements must be provided:',\n",
       "    '- entity type \"person\" must have a statement from at least one of these predicates: \"website\", \"angelListUrl\", \"linkedInUrl\", \"founderOf\", \"ceoOf\"',\n",
       "    '    at checkMinimumRequiredStatements (/home/andrew/golden/dapp/app/db/entityMinimumRequiredStatements.ts:74:11)',\n",
       "    '    at createEntityWrapper (/home/andrew/golden/dapp/db/graphql/plugins/CreateEntityPlugin.server.ts:17:33)',\n",
       "    '    at resolve (/home/andrew/golden/dapp/node_modules/graphile-utils/src/makeWrapResolversPlugin.ts:180:18)',\n",
       "    '    at resolve (/home/andrew/golden/dapp/node_modules/@graphile/operation-hooks/lib/OperationHooksCorePlugin.js:122:38)',\n",
       "    '    at runMicrotasks (<anonymous>)',\n",
       "    '    at processTicksAndRejections (node:internal/process/task_queues:96:5)',\n",
       "    '    at async /home/andrew/golden/dapp/node_modules/postgraphile/src/postgraphile/withPostGraphileContext.ts:227:16',\n",
       "    '    at async withAuthenticatedPgClient (/home/andrew/golden/dapp/node_modules/postgraphile/src/postgraphile/withPostGraphileContext.ts:169:20)',\n",
       "    '    at async /home/andrew/golden/dapp/node_modules/postgraphile/src/postgraphile/http/createPostGraphileHttpRequestHandler.ts:926:26',\n",
       "    '    at async Promise.all (index 0)']}],\n",
       " 'data': {'createEntity': None}}"
      ]
     },
     "execution_count": 14,
     "metadata": {},
     "output_type": "execute_result"
    }
   ],
   "source": [
    "data = goldapi.create_entity(create_entity_input=create_entity_input)\n",
    "data"
   ]
  },
  {
   "cell_type": "code",
   "execution_count": 10,
   "id": "3d341ff4-ac0c-414a-8694-cf7c3900378e",
   "metadata": {},
   "outputs": [
    {
     "data": {
      "text/html": [
       "<div>\n",
       "<style scoped>\n",
       "    .dataframe tbody tr th:only-of-type {\n",
       "        vertical-align: middle;\n",
       "    }\n",
       "\n",
       "    .dataframe tbody tr th {\n",
       "        vertical-align: top;\n",
       "    }\n",
       "\n",
       "    .dataframe thead th {\n",
       "        text-align: right;\n",
       "    }\n",
       "</style>\n",
       "<table border=\"1\" class=\"dataframe\">\n",
       "  <thead>\n",
       "    <tr style=\"text-align: right;\">\n",
       "      <th></th>\n",
       "      <th>__typename</th>\n",
       "      <th>id</th>\n",
       "      <th>pathname</th>\n",
       "      <th>name</th>\n",
       "      <th>description</th>\n",
       "      <th>thumbnail</th>\n",
       "      <th>goldenId</th>\n",
       "      <th>isA</th>\n",
       "      <th>statementsBySubjectId</th>\n",
       "    </tr>\n",
       "  </thead>\n",
       "  <tbody>\n",
       "    <tr>\n",
       "      <th>0</th>\n",
       "      <td>Entity</td>\n",
       "      <td>18998a05-d972-44cc-9d45-c75c9477c98d</td>\n",
       "      <td>/entity/18998a05-d972-44cc-9d45-c75c9477c98d</td>\n",
       "      <td>John Doe</td>\n",
       "      <td>None</td>\n",
       "      <td>None</td>\n",
       "      <td>None</td>\n",
       "      <td>{'nodes': [{'id': '0c4e6054-5fd8-48a8-817c-f66...</td>\n",
       "      <td>{'nodes': [{'__typename': 'Statement', 'id': '...</td>\n",
       "    </tr>\n",
       "  </tbody>\n",
       "</table>\n",
       "</div>"
      ],
      "text/plain": [
       "  __typename                                    id  \\\n",
       "0     Entity  18998a05-d972-44cc-9d45-c75c9477c98d   \n",
       "\n",
       "                                       pathname      name description  \\\n",
       "0  /entity/18998a05-d972-44cc-9d45-c75c9477c98d  John Doe        None   \n",
       "\n",
       "  thumbnail goldenId                                                isA  \\\n",
       "0      None     None  {'nodes': [{'id': '0c4e6054-5fd8-48a8-817c-f66...   \n",
       "\n",
       "                               statementsBySubjectId  \n",
       "0  {'nodes': [{'__typename': 'Statement', 'id': '...  "
      ]
     },
     "execution_count": 10,
     "metadata": {},
     "output_type": "execute_result"
    }
   ],
   "source": [
    "created_data_df = pd.DataFrame([data[\"data\"][\"createEntity\"][\"entity\"]])\n",
    "created_data_df"
   ]
  },
  {
   "cell_type": "markdown",
   "id": "2cd99fa4-b583-43a6-bfb1-fd23c0539420",
   "metadata": {},
   "source": [
    "### 6. View Data on dApp"
   ]
  },
  {
   "cell_type": "code",
   "execution_count": 11,
   "id": "8597d5d1-1cdb-4e05-9a10-1889de890701",
   "metadata": {},
   "outputs": [
    {
     "data": {
      "text/plain": [
       "'https://dapp.golden.xyz/entity/18998a05-d972-44cc-9d45-c75c9477c98d'"
      ]
     },
     "execution_count": 11,
     "metadata": {},
     "output_type": "execute_result"
    }
   ],
   "source": [
    "created_entity_id = data[\"data\"][\"createEntity\"][\"entity\"][\"id\"]\n",
    "created_entity_id\n",
    "link = f\"https://dapp.golden.xyz/entity/{created_entity_id}\"\n",
    "link"
   ]
  },
  {
   "cell_type": "code",
   "execution_count": null,
   "id": "46cb84e7-05a4-487e-a0cc-8ec1fa23ac17",
   "metadata": {},
   "outputs": [],
   "source": []
  }
 ],
 "metadata": {
  "kernelspec": {
   "display_name": "Python 3 (ipykernel)",
   "language": "python",
   "name": "python3"
  },
  "language_info": {
   "codemirror_mode": {
    "name": "ipython",
    "version": 3
   },
   "file_extension": ".py",
   "mimetype": "text/x-python",
   "name": "python",
   "nbconvert_exporter": "python",
   "pygments_lexer": "ipython3",
   "version": "3.8.10"
  }
 },
 "nbformat": 4,
 "nbformat_minor": 5
}
