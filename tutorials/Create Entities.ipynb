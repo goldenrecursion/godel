{
 "cells": [
  {
   "cell_type": "markdown",
   "id": "9e8eb97b-c080-48d0-806c-1242fdb99428",
   "metadata": {},
   "source": [
    "# Create Entities\n",
    "\n",
    "A short guide to adding Entities with Minimum Disambiguation Triples(MDTs) to the Golden decentralized knowledge graph using the godel SDK. Please see the [Golden Protocol FAQ Guide](https://www.notion.so/goldenhq/Golden-Protocol-FAQ-78ae2357b9af44aeaa655cb1b1966ee4) and the [Adding Structured Data Guide](https://www.notion.so/goldenhq/Adding-Structured-Data-Guide-ae657337bf4f4e54ae4402df083c76ac) to learn more about Golden, data submission, and rewards."
   ]
  },
  {
   "cell_type": "markdown",
   "id": "f1ff510c-6af8-40f8-8414-850bdd1dbe84",
   "metadata": {},
   "source": [
    "Note: Attribution and eligibility for testnet points on triple submissions will be assigned by the earliest timestamped transaction."
   ]
  },
  {
   "cell_type": "markdown",
   "id": "6687099d-6cb1-451b-872c-2c38ab859364",
   "metadata": {},
   "source": [
    "## Prerequisite\n",
    "\n",
    "Godel [Authentication](https://docs.golden.xyz/api/godel-python-sdk/authentication)\n",
    "\n",
    "This guide requires you install Godel's data-tools.\n",
    "\n",
    "You can do this with `pip install godel` and comes pre-installed if using the godel docker image."
   ]
  },
  {
   "cell_type": "markdown",
   "id": "c5e9a14d-f350-43f9-b7bc-ba12c7e79a04",
   "metadata": {},
   "source": [
    "### 1. Connect to Golden Web3 API\n",
    "\n",
    "Let's connect the python wrapper to the Golden GraphQL API.\n",
    "\n",
    "Make sure you ran through the prerequisites for this guide and have learned how to authenticate and retrieve your JWT token in Godel."
   ]
  },
  {
   "cell_type": "code",
   "execution_count": null,
   "id": "a39d8755-e9db-4008-aa3e-4832cd1d53b7",
   "metadata": {},
   "outputs": [],
   "source": [
    "from godel import GoldenAPI\n",
    "\n",
    "JWT_TOKEN = #YOUR_JWT_TOKEN_HERE\n",
    "API_URL = \"https://dapp.golden.xyz/graphql\"\n",
    "SANDBOX_URL = \"https://sandbox.dapp.golden.xyz/graphql\" # Use the sandbox API to test your submissions\n",
    "goldapi = GoldenAPI(url=API_URL)\n",
    "goldapi.set_jwt_token(jwt_token=JWT_TOKEN)"
   ]
  },
  {
   "cell_type": "code",
   "execution_count": null,
   "id": "23da262e-c30c-44cf-8c49-e347feacb6bb",
   "metadata": {
    "tags": []
   },
   "outputs": [],
   "source": [
    "import pandas as pd\n",
    "\n",
    "# Test connection with search\n",
    "search_results = goldapi.entity_search(name=\"Miles\")\n",
    "search_results_df = pd.DataFrame(search_results[\"data\"][\"entityByName\"][\"nodes\"])\n",
    "search_results_df.head()"
   ]
  },
  {
   "cell_type": "markdown",
   "id": "ea07bae9-8bb7-4180-933d-87456f7a1fc8",
   "metadata": {},
   "source": [
    "### 2. Get Predicates and Templates\n",
    "\n",
    "You can run the code below to get the list of accepted predicates into the knowledge graph, its data types, and submit templates for different kinds of entities."
   ]
  },
  {
   "cell_type": "code",
   "execution_count": null,
   "id": "1150a6ee-5cd6-4831-9ce7-1ce7564658bc",
   "metadata": {
    "tags": []
   },
   "outputs": [],
   "source": [
    "import pandas as pd\n",
    "\n",
    "predicates = {}\n",
    "for p in goldapi.predicates()[\"data\"][\"predicates\"][\"edges\"]:\n",
    "    p = p[\"node\"]\n",
    "    predicates[p[\"name\"]] = {\"id\": p[\"id\"], \"objectType\": p[\"objectType\"]} \n",
    "predicates_df = pd.DataFrame(predicates).transpose()\n",
    "predicates_df.head()"
   ]
  },
  {
   "cell_type": "code",
   "execution_count": null,
   "id": "920e3e9c-9e75-43f7-a2d0-443bfc2bc11e",
   "metadata": {},
   "outputs": [],
   "source": [
    "templates = {}\n",
    "for t in goldapi.templates()[\"data\"][\"templates\"][\"edges\"]:\n",
    "    t = t[\"node\"]\n",
    "    templates[t[\"entity\"][\"name\"]] = {\"id\": t[\"id\"], \"entityId\": t[\"entityId\"], \"entityDescription\": t[\"entity\"][\"description\"]} \n",
    "templates_df = pd.DataFrame(templates).transpose()\n",
    "templates_df"
   ]
  },
  {
   "cell_type": "markdown",
   "id": "a2705ded-9fa8-4e64-a882-53cb1892b1f5",
   "metadata": {},
   "source": [
    "### 3. Create Entity"
   ]
  },
  {
   "cell_type": "markdown",
   "id": "2d190258-885b-45c7-9122-c24f0cb7840a",
   "metadata": {},
   "source": [
    "#### Source Data"
   ]
  },
  {
   "cell_type": "markdown",
   "id": "595f0c04-3abb-4d56-a86f-529a4afbbcb7",
   "metadata": {},
   "source": [
    "You will need to input the source data of the entity you would like to submit."
   ]
  },
  {
   "cell_type": "code",
   "execution_count": null,
   "id": "c77de7ad-7832-443f-939c-07133c769ce8",
   "metadata": {},
   "outputs": [],
   "source": [
    "name = \"John Doe\"\n",
    "is_a = \"0c4e6054-5fd8-48a8-817c-f6611278f755\"  # Person Template Entity Id\n",
    "ceo_of = \"7338a7df-fe3a-45e6-8802-c3064d23dc66\"  # Starbucks Entity ID\n",
    "email_address = \"john.doe@example.com\"\n",
    "citation_urls = [\"https://golden.com/wiki/johndoe\"]"
   ]
  },
  {
   "cell_type": "markdown",
   "id": "e189d3aa-e901-470d-9f09-72d58838d0f8",
   "metadata": {},
   "source": [
    "#### Create Entity Input"
   ]
  },
  {
   "cell_type": "markdown",
   "id": "fb8fa1ac-a108-4a1a-9de4-cfbef98f22b1",
   "metadata": {},
   "source": [
    "We're going to use `CreateEntityInput`, which requires Minimum Disambiguated Triples (MDTs), to submit the new entity.\n",
    "\n",
    "MDTs are the required triples you must submit along with the entity you want to create. This helps us with disambiguation, deduplication, and arbitrary entity submissions with zero triples.\n",
    "\n",
    "First, view the `StatementInputRecordInput` object schema."
   ]
  },
  {
   "cell_type": "code",
   "execution_count": null,
   "id": "74dbfe06-117c-4121-afa1-d58a1b6bae99",
   "metadata": {},
   "outputs": [],
   "source": [
    "from godel.schema import CreateEntityInput, StatementInputRecordInput\n",
    "\n",
    "print(repr(CreateEntityInput))\n",
    "StatementInputRecordInput"
   ]
  },
  {
   "cell_type": "markdown",
   "id": "89a3207b-d34b-4e29-a717-6ddb3bf71c61",
   "metadata": {},
   "source": [
    "Create your triples with `StatementInputRecordInput`.\n",
    "\n",
    "You'll notice that the \"CEO of\" statement is commented out. Without this, even if you have the email address statement, you will not be able to submit the entity since it does not fulfill the MDTs required. We are using pandas here to make working with data easier, but it is not a requirement.\n",
    "\n",
    "Remove the comment-out of the \"CEO of\" statement to succesfully submit the entity."
   ]
  },
  {
   "cell_type": "code",
   "execution_count": null,
   "id": "011cdf1e-2961-41cd-8926-ef0c4de9793c",
   "metadata": {},
   "outputs": [],
   "source": [
    "# Create triples inputs\n",
    "statements = []\n",
    "\n",
    "# Add Template\n",
    "statements.append(\n",
    "    StatementInputRecordInput(\n",
    "        predicate_id=predicates[\"Is a\"][\"id\"],\n",
    "        object_entity_id=is_a,\n",
    "        citation_urls=citation_urls,\n",
    "        qualifiers=[],\n",
    "    )\n",
    ")\n",
    "\n",
    "# Add Name\n",
    "statements.append(\n",
    "    StatementInputRecordInput(\n",
    "        predicate_id=predicates[\"Name\"][\"id\"],\n",
    "        object_value=name,\n",
    "        citation_urls=citation_urls,\n",
    "        qualifiers=[],\n",
    "    )\n",
    ")\n",
    "\n",
    "# Add Email Address\n",
    "statements.append(\n",
    "    StatementInputRecordInput(\n",
    "        predicate_id=predicates[\"Email Address\"][\"id\"],\n",
    "        object_value=email_address,\n",
    "        citation_urls=citation_urls,\n",
    "        qualifiers=[],\n",
    "    )\n",
    ")\n",
    "\n",
    "# Add CEO of\n",
    "# statements.append(\n",
    "#     StatementInputRecordInput(\n",
    "#         predicate_id=predicates[\"CEO of\"][\"id\"],\n",
    "#         object_entity_id=ceo_of,\n",
    "#         citation_urls=citation_urls,\n",
    "#         qualifiers=[],\n",
    "#     )\n",
    "# )"
   ]
  },
  {
   "cell_type": "markdown",
   "id": "da8b4427-6a46-437f-97cf-7ac45f6f9734",
   "metadata": {},
   "source": [
    "Now that you have the statements, you can create your `CreateEntityInput`."
   ]
  },
  {
   "cell_type": "code",
   "execution_count": null,
   "id": "ede39730-3318-428f-8076-76f1ad674466",
   "metadata": {},
   "outputs": [],
   "source": [
    "# Create Entity Input\n",
    "create_entity_input = CreateEntityInput(\n",
    "    statements=statements\n",
    ")\n",
    "create_entity_input.__to_json_value__()"
   ]
  },
  {
   "cell_type": "markdown",
   "id": "3dd2fd42-7f4b-4903-b97c-553185bd95f4",
   "metadata": {},
   "source": [
    "### WARNING: Running the code below may charge gas fees and stake testnet points with your wallet. You may lose testnet points by submitting incorrect data."
   ]
  },
  {
   "cell_type": "markdown",
   "id": "f9ad45b1-ff0e-4f80-af83-6a9c5bcb2908",
   "metadata": {},
   "source": [
    "### Submit entity data to protocol"
   ]
  },
  {
   "cell_type": "code",
   "execution_count": null,
   "id": "ff7a5315-d485-44a3-a739-78eb6d9d3268",
   "metadata": {
    "tags": []
   },
   "outputs": [],
   "source": [
    "data = goldapi.create_entity(create_entity_input=create_entity_input)\n",
    "data"
   ]
  },
  {
   "cell_type": "code",
   "execution_count": null,
   "id": "3d341ff4-ac0c-414a-8694-cf7c3900378e",
   "metadata": {},
   "outputs": [],
   "source": [
    "# Below is a dataframe of your new entity once submitted with the required MDTs. \n",
    "created_data_df = pd.DataFrame([data[\"data\"][\"createEntity\"][\"entity\"]])\n",
    "created_data_df"
   ]
  },
  {
   "cell_type": "markdown",
   "id": "2cd99fa4-b583-43a6-bfb1-fd23c0539420",
   "metadata": {},
   "source": [
    "### 5. View Data on dApp"
   ]
  },
  {
   "cell_type": "code",
   "execution_count": null,
   "id": "8597d5d1-1cdb-4e05-9a10-1889de890701",
   "metadata": {},
   "outputs": [],
   "source": [
    "created_entity_id = data[\"data\"][\"createEntity\"][\"entity\"][\"id\"]\n",
    "created_entity_id\n",
    "link = f\"https://dapp.golden.xyz/entity/{created_entity_id}\"\n",
    "link"
   ]
  }
 ],
 "metadata": {
  "kernelspec": {
   "display_name": "Python 3 (ipykernel)",
   "language": "python",
   "name": "python3"
  },
  "language_info": {
   "codemirror_mode": {
    "name": "ipython",
    "version": 3
   },
   "file_extension": ".py",
   "mimetype": "text/x-python",
   "name": "python",
   "nbconvert_exporter": "python",
   "pygments_lexer": "ipython3",
   "version": "3.9.5"
  },
  "vscode": {
   "interpreter": {
    "hash": "7f0162e0494ffd197d4c84e1c52fbcf566b58529937a5cd0230e5e855992544a"
   }
  }
 },
 "nbformat": 4,
 "nbformat_minor": 5
}
