{
 "cells": [
  {
   "cell_type": "markdown",
   "id": "28cb6338-0997-46f9-bf71-31ccfc71a976",
   "metadata": {},
   "source": [
    "# Validation\n",
    "\n",
    "Here is a short guide to validating triples on the Golden protocol. Before casting votes, be sure to read the [Triple Validation Guide](https://www.notion.so/goldenhq/Triple-Validation-Guide-84ec0a78cfe941b9876007cccca61b31)"
   ]
  },
  {
   "cell_type": "markdown",
   "id": "f7598da8-46d9-421e-a861-60e88c42c42a",
   "metadata": {},
   "source": [
    "## Prerequisite\n",
    "\n",
    "[Authentication](https://docs.golden.xyz/guides/authentication)\n",
    "\n",
    "[Godel Authentication](https://docs.golden.xyz/godel-python-sdk/authentication)"
   ]
  },
  {
   "cell_type": "markdown",
   "id": "bee98a0e-31e7-40cc-88ab-5164413c17dc",
   "metadata": {},
   "source": [
    "### 1. Connect to Golden Web3 API\n",
    "\n",
    "Let's connect the python wrapper to the Golden GraphQL API.\n",
    "\n",
    "Make sure you ran through the prerequisites for this guide and have learned to authenticate and retrieve your JWT token in Godel."
   ]
  },
  {
   "cell_type": "code",
   "execution_count": 8,
   "id": "1311f6af-03c5-4067-9bf1-c1667813e611",
   "metadata": {},
   "outputs": [],
   "source": [
    "from godel import GoldenAPI\n",
    "\n",
    "JWT_TOKEN = \"ey098sd908v79899789877986567967845jh567hj5679568df678678daf6786789s569ghm567457hm8g567n8678fb8790678sd56756n456h8d4f5gn865648\"\n",
    "goldapi = GoldenAPI(jwt_token=JWT_TOKEN)"
   ]
  },
  {
   "cell_type": "markdown",
   "id": "5b3ee311-36e2-4ebf-9b99-e6a01ffe0df6",
   "metadata": {},
   "source": [
    "### 2. Retrieve unvalidated triple\n",
    "\n",
    "There are a couple options for retrieving an unvalidated triple.\n",
    "\n",
    "The first way we'd recommend is to retrieve a validation task from Golden's API. We'll have an endpoint that provides a queue of validation tasks.\n",
    "\n",
    "You can validate the triple by creating a validation for the triple which will submit your validation (accept, reject) to the protocol."
   ]
  },
  {
   "cell_type": "code",
   "execution_count": 9,
   "id": "115e6fa1-0261-4811-87dd-f6fb266a87ab",
   "metadata": {},
   "outputs": [
    {
     "data": {
      "text/plain": [
       "{'id': '2a2b80d5-b841-4723-b949-210a11500db3',\n",
       " 'citationsByTripleId': {'nodes': [{'url': 'https://www.linkedin.com/search/results/all/?keywords=Miles%20Wolff'}]},\n",
       " 'dateCreated': '2022-08-22T15:59:24.617456',\n",
       " 'objectEntityId': None,\n",
       " 'objectValue': '509.763.3584 x29455',\n",
       " 'subjectId': 'd95ef4b0-e006-4203-bfb4-adbe99f63ce7',\n",
       " 'userId': '0xppaf8ojpphfszeokh5eecmqbf82pelqm6f63jpjf',\n",
       " 'predicateId': 'c090be24-6c35-45d8-8a81-32e57a3d48dd'}"
      ]
     },
     "execution_count": 9,
     "metadata": {},
     "output_type": "execute_result"
    }
   ],
   "source": [
    "# Get unvalidated triple\n",
    "data = goldapi.unvalidated_triple()[\"data\"]\n",
    "unvalidated_triple = data[\"unvalidatedTriple\"]\n",
    "unvalidated_triple"
   ]
  },
  {
   "cell_type": "markdown",
   "id": "ca5d2b80-309b-47c3-a7d2-cea591d5e854",
   "metadata": {},
   "source": [
    "### 4. Create validation"
   ]
  },
  {
   "cell_type": "code",
   "execution_count": 13,
   "id": "08e354df-1a90-48cf-b9e6-57b51558b9f6",
   "metadata": {},
   "outputs": [
    {
     "data": {
      "text/plain": [
       "enum ValidationType {\n",
       "  ACCEPTED\n",
       "  REJECTED\n",
       "  SKIPPED\n",
       "}"
      ]
     },
     "execution_count": 13,
     "metadata": {},
     "output_type": "execute_result"
    }
   ],
   "source": [
    "from godel.schema import ValidationType\n",
    "\n",
    "# Retrieve Choices for Validation\n",
    "ValidationType"
   ]
  },
  {
   "cell_type": "code",
   "execution_count": 16,
   "id": "7d05de6c-489b-44b5-9079-b9837611bb64",
   "metadata": {},
   "outputs": [
    {
     "data": {
      "text/plain": [
       "'2a2b80d5-b841-4723-b949-210a11500db3'"
      ]
     },
     "execution_count": 16,
     "metadata": {},
     "output_type": "execute_result"
    }
   ],
   "source": [
    "# Create validation with the triple id and your validation type\n",
    "triple_id = unvalidated_triple[\"id\"]\n",
    "validation_type = \"REJECTED\"\n",
    "triple_id"
   ]
  },
  {
   "cell_type": "markdown",
   "id": "9b69204c-26c8-4624-88c2-affdddc58194",
   "metadata": {},
   "source": [
    "### WARNING: Running the code below may charge gas fees and stake testnet points with your wallet. You may lose testnet points by submitting incorrect data."
   ]
  },
  {
   "cell_type": "code",
   "execution_count": null,
   "id": "ac3647ec-203a-4e5f-b091-750bf2dab34b",
   "metadata": {},
   "outputs": [],
   "source": [
    "# Create Validation\n",
    "goldapi.create_validation(\n",
    "    triple_id=triple_id,\n",
    "    validation_type=validation_type\n",
    ")"
   ]
  },
  {
   "cell_type": "code",
   "execution_count": null,
   "id": "8e3aa7c7-8c7f-47ac-b738-bc5006aebbc1",
   "metadata": {},
   "outputs": [],
   "source": []
  }
 ],
 "metadata": {
  "kernelspec": {
   "display_name": "Python 3 (ipykernel)",
   "language": "python",
   "name": "python3"
  },
  "language_info": {
   "codemirror_mode": {
    "name": "ipython",
    "version": 3
   },
   "file_extension": ".py",
   "mimetype": "text/x-python",
   "name": "python",
   "nbconvert_exporter": "python",
   "pygments_lexer": "ipython3",
   "version": "3.8.10"
  }
 },
 "nbformat": 4,
 "nbformat_minor": 5
}
