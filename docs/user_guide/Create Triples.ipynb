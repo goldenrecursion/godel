{
 "cells": [
  {
   "cell_type": "markdown",
   "id": "9e8eb97b-c080-48d0-806c-1242fdb99428",
   "metadata": {},
   "source": [
    "# Create Triples\n",
    "\n",
    "A short guide to adding triples to the Golden decentralized knowledge graph using the godel SDK. Please see the [Golden Protocol FAQ Guide](https://www.notion.so/goldenhq/Golden-Protocol-FAQ-78ae2357b9af44aeaa655cb1b1966ee4) and the [Adding Structured Data Guide](https://www.notion.so/goldenhq/Adding-Structured-Data-Guide-ae657337bf4f4e54ae4402df083c76ac) to learn more about Golden, data submission, and rewards."
   ]
  },
  {
   "cell_type": "markdown",
   "id": "3f5cdf0e-a6b1-4f06-bdb5-940cb36024f0",
   "metadata": {},
   "source": [
    "Note: Attribution and eligibility for testnet points on triple submissions will be assigned by the earliest timestamped transaction."
   ]
  },
  {
   "cell_type": "markdown",
   "id": "02122667-46e5-4bb3-a475-61f484327998",
   "metadata": {},
   "source": [
    "## Prerequisite\n",
    "\n",
    "Godel [Authentication](https://docs.golden.xyz/api/godel-python-sdk/authentication)\n",
    "\n",
    "This guide requires you install Godel's data-tools.\n",
    "\n",
    "You can do this with `pip install godel` and comes pre-installed if using the godel docker image."
   ]
  },
  {
   "cell_type": "markdown",
   "id": "c5e9a14d-f350-43f9-b7bc-ba12c7e79a04",
   "metadata": {},
   "source": [
    "### 1. Connect to Golden Web3 API\n",
    "\n",
    "Let's connect the python wrapper to the Golden GraphQL API.\n",
    "\n",
    "Make sure you ran through the prerequisites for this guide and have learned to authenticate and retrieve your JWT token in Godel."
   ]
  },
  {
   "cell_type": "code",
   "execution_count": null,
   "id": "a39d8755-e9db-4008-aa3e-4832cd1d53b7",
   "metadata": {},
   "outputs": [],
   "source": [
    "from godel import GoldenAPI\n",
    "\n",
    "JWT_TOKEN = #YOUR_JWT_TOKEN_HERE\n",
    "API_URL = \"https://dapp.golden.xyz/graphql\"\n",
    "SANDBOX_URL = \"https://sandbox.dapp.golden.xyz/graphql\" # Use the sandbox API to test your submissions\n",
    "goldapi = GoldenAPI(url=API_URL)\n",
    "goldapi.set_jwt_token(jwt_token=JWT_TOKEN)"
   ]
  },
  {
   "cell_type": "markdown",
   "id": "06bd69dc-c7a5-4a45-a227-8260e953a096",
   "metadata": {},
   "source": [
    "Test that you can hit the API with `entity_search()`, and we'll save the results so we can use the resulting entity as our subject entity for this guide. We are using pandas here to make working with data easier, but it is not a requirement."
   ]
  },
  {
   "cell_type": "code",
   "execution_count": null,
   "id": "23da262e-c30c-44cf-8c49-e347feacb6bb",
   "metadata": {
    "tags": []
   },
   "outputs": [],
   "source": [
    "import pandas as pd\n",
    "\n",
    "# Test with search\n",
    "search_results = goldapi.entity_search(name=\"Miles\")\n",
    "search_results_df = pd.DataFrame(search_results[\"data\"][\"entityByName\"][\"nodes\"])\n",
    "search_results_df"
   ]
  },
  {
   "cell_type": "markdown",
   "id": "ea07bae9-8bb7-4180-933d-87456f7a1fc8",
   "metadata": {},
   "source": [
    "### 2. Get Predicates\n",
    "\n",
    "You can run the code below to get the list of accepted predicates available for the protocol."
   ]
  },
  {
   "cell_type": "code",
   "execution_count": null,
   "id": "1150a6ee-5cd6-4831-9ce7-1ce7564658bc",
   "metadata": {
    "tags": []
   },
   "outputs": [],
   "source": [
    "import pandas as pd\n",
    "\n",
    "predicates = {}\n",
    "for p in goldapi.predicates()[\"data\"][\"predicates\"][\"edges\"]:\n",
    "    p = p[\"node\"]\n",
    "    predicates[p[\"name\"]] = {\"id\": p[\"id\"], \"objectType\": p[\"objectType\"]} \n",
    "predicates_df = pd.DataFrame(predicates).transpose()\n",
    "predicates_df.head()"
   ]
  },
  {
   "cell_type": "markdown",
   "id": "84ecae71-11fa-4d90-af24-c0a78c721e89",
   "metadata": {},
   "source": [
    "### 3. Create Triple\n",
    "\n",
    "First, view the `CreateStatementInput` object schema."
   ]
  },
  {
   "cell_type": "code",
   "execution_count": null,
   "id": "e2eda5fb-fd10-433a-acf2-8fb9d5b13cb4",
   "metadata": {},
   "outputs": [],
   "source": [
    "from godel.schema import CreateStatementInput, StatementInputRecordInput\n",
    "\n",
    "CreateStatementInput"
   ]
  },
  {
   "cell_type": "markdown",
   "id": "eebbf439-ca61-436b-8314-95d5d68d8431",
   "metadata": {},
   "source": [
    "Now you can input your triple data. Make sure to check the predicate object type to ensure your object entity ID or object value matches the object type."
   ]
  },
  {
   "cell_type": "markdown",
   "id": "ce92daa9-8eff-4bf2-9700-63e0126ff104",
   "metadata": {},
   "source": [
    "#### Triple with Object Value Example"
   ]
  },
  {
   "cell_type": "code",
   "execution_count": null,
   "id": "af66ddcc-2b3c-40e9-8594-de2ee39bc3ee",
   "metadata": {},
   "outputs": [],
   "source": [
    "# Triple data\n",
    "subject_id = search_results_df[\"id\"][0]  # Miles Wolff\n",
    "predicate_id = predicates_df[\"id\"][1]  # Email Address\n",
    "object_value = \"guide@example.com\"\n",
    "\n",
    "# Create statement input API\n",
    "create_statement_input = CreateStatementInput(\n",
    "    subject_id=subject_id,\n",
    "    predicate_id=predicate_id,\n",
    "    object_value=object_value,\n",
    "    citation_urls=[\"https://golden.com\"],\n",
    ")"
   ]
  },
  {
   "cell_type": "markdown",
   "id": "3dd2fd42-7f4b-4903-b97c-553185bd95f4",
   "metadata": {},
   "source": [
    "### WARNING: Running the code below may charge gas fees and stake testnet points with your wallet. You may lose testnet points by submitting incorrect data."
   ]
  },
  {
   "cell_type": "code",
   "execution_count": null,
   "id": "ff7a5315-d485-44a3-a739-78eb6d9d3268",
   "metadata": {
    "tags": []
   },
   "outputs": [],
   "source": [
    "data = goldapi.create_statement(create_statement_input=create_statement_input)\n",
    "data"
   ]
  },
  {
   "cell_type": "markdown",
   "id": "eb11bae1-118e-467f-a01e-2a1cafe70c4c",
   "metadata": {},
   "source": [
    "#### Triple with Object Entity ID Example"
   ]
  },
  {
   "cell_type": "code",
   "execution_count": null,
   "id": "99faad16-535d-4d85-84f0-154ee6cfac3c",
   "metadata": {},
   "outputs": [],
   "source": [
    "# Triple data\n",
    "subject_id = search_results_df[\"id\"][0]  # Miles Wolff\n",
    "predicate_id = \"e4f94b98-c56a-4bd2-a9fd-5fd11603e7e8\"  # CEO Of predicate\n",
    "object_entity_id = \"20ab9281-fd5f-4717-ab73-ecd24fff66fe\"  # Huel and Sons Entity ID\n",
    "\n",
    "# Create statement input API\n",
    "create_statement_input = CreateStatementInput(\n",
    "    subject_id=subject_id,\n",
    "    predicate_id=predicate_id,\n",
    "    object_entity_id=object_entity_id,\n",
    "    citation_urls=[\"https://golden.com\"],\n",
    ")"
   ]
  },
  {
   "cell_type": "markdown",
   "id": "728a3624-7527-4684-9c0e-f1cdfaf31db9",
   "metadata": {},
   "source": [
    "### WARNING: Running the code below may charge gas fees and stake testnet points with your wallet. You may lose testnet points by submitting incorrect data."
   ]
  },
  {
   "cell_type": "code",
   "execution_count": null,
   "id": "e2f0a043-40ce-4e30-bf23-8385f3114d6f",
   "metadata": {},
   "outputs": [],
   "source": [
    "data = goldapi.create_statement(create_statement_input=create_statement_input)\n",
    "data"
   ]
  }
 ],
 "metadata": {
  "kernelspec": {
   "display_name": "Python 3 (ipykernel)",
   "language": "python",
   "name": "python3"
  },
  "language_info": {
   "codemirror_mode": {
    "name": "ipython",
    "version": 3
   },
   "file_extension": ".py",
   "mimetype": "text/x-python",
   "name": "python",
   "nbconvert_exporter": "python",
   "pygments_lexer": "ipython3",
   "version": "3.9.5"
  },
  "vscode": {
   "interpreter": {
    "hash": "7f0162e0494ffd197d4c84e1c52fbcf566b58529937a5cd0230e5e855992544a"
   }
  }
 },
 "nbformat": 4,
 "nbformat_minor": 5
}
