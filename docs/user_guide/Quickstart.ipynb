{
 "cells": [
  {
   "cell_type": "markdown",
   "id": "d9ceeb4e-a5ae-4c71-9d7d-67d23ed20e16",
   "metadata": {},
   "source": [
    "# Quickstart"
   ]
  },
  {
   "cell_type": "markdown",
   "id": "db59f84a-8eaf-4209-927c-73e283da7bfb",
   "metadata": {},
   "source": [
    "# Installation\n",
    "\n",
    "Godel requires Python 3.7+"
   ]
  },
  {
   "cell_type": "code",
   "execution_count": null,
   "id": "f6829138-5254-4019-a262-9a58c44ccf7f",
   "metadata": {},
   "outputs": [],
   "source": [
    "pip install godel\n",
    "\n",
    "# Add extras to install web3, jupyter, data tools, etc.\n",
    "pip install godel[web3,data-tools]"
   ]
  },
  {
   "cell_type": "markdown",
   "id": "c8b0e92f-635a-4fec-9f48-a8e8003a7600",
   "metadata": {},
   "source": [
    "# GraphQL Examples\n",
    "\n",
    "Query against the protocol GraphQL API to retrieve and explore data in the knowledge graph."
   ]
  },
  {
   "cell_type": "code",
   "execution_count": null,
   "id": "035c9e0e-9ef9-4700-9e4f-700272bdbc4e",
   "metadata": {},
   "outputs": [],
   "source": [
    "from godel import GoldenAPI\n",
    "\n",
    "goldapi = GoldenAPI()\n",
    "\n",
    "# Operations that do not require authentication\n",
    "# Retrieve existing triple predicates\n",
    "goldapi.predicates()\n",
    "\n",
    "# Retrieve existing entity templates \n",
    "goldapi.templates()\n",
    "\n",
    "# With signed authentication\n",
    "# Find your JSON Web Token(JWT) at \"https://dapp.golden.xyz/profile\" after signing in\n",
    "goldapi = GoldenAPI(jwt_token=<your_token>)\n",
    "\n",
    "# Search and query for specific entities\n",
    "goldapi.entity_search(name=\"Golden\")"
   ]
  }
 ],
 "metadata": {
  "kernelspec": {
   "display_name": "Python 3 (ipykernel)",
   "language": "python",
   "name": "python3"
  },
  "language_info": {
   "codemirror_mode": {
    "name": "ipython",
    "version": 3
   },
   "file_extension": ".py",
   "mimetype": "text/x-python",
   "name": "python",
   "nbconvert_exporter": "python",
   "pygments_lexer": "ipython3",
   "version": "3.9.5"
  }
 },
 "nbformat": 4,
 "nbformat_minor": 5
}
