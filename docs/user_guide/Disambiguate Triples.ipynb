{
 "cells": [
  {
   "cell_type": "markdown",
   "id": "c91f7f0c-2141-4e77-adbb-db4385681136",
   "metadata": {},
   "source": [
    "# Disambiguate Triples"
   ]
  },
  {
   "cell_type": "markdown",
   "id": "343116ee-6c5b-4259-9678-1b2043b54cc1",
   "metadata": {},
   "source": [
    "# Godel `disambiguate_triples()` API tutorial\n",
    "\n",
    "This is a short guide to triple disambiguation on the Golden protocol. Disambiguation is a core step in the data submission process, as any triple needs to point to an existing entity reference in the protocol. Good disambiguation prevents the creation of entity and triple duplicates.\n",
    "\n",
    "In this tutorial we will cover an example on how we can go from a raw dataset to a list of disambiguated triples and ready for submission to the protocol."
   ]
  },
  {
   "cell_type": "code",
   "execution_count": 1,
   "id": "8db06984-099b-4bf2-aaf4-fffdc5e32255",
   "metadata": {},
   "outputs": [],
   "source": [
    "# Necessary imports for the tutorial\n",
    "from csv import DictReader\n",
    "import io\n",
    "from typing import List, Dict\n",
    "\n",
    "from godel import GoldenAPI\n",
    "from godel.models import DisambiguationTripleDict"
   ]
  },
  {
   "cell_type": "markdown",
   "id": "4906a9f6-3a56-4470-94e8-7683069c82dd",
   "metadata": {},
   "source": [
    "For the sake of this example, let's say we have obtained this small dataset about tech companies. We have our data in CSV format, where each row would correspond to a different company, and each column to a different triple.\n",
    "\n",
    "First, let's take a look at the data, and parse it into python objects."
   ]
  },
  {
   "cell_type": "code",
   "execution_count": 2,
   "id": "15a0c158-502b-4bc3-b5a6-69a7dd320eda",
   "metadata": {},
   "outputs": [
    {
     "name": "stdout",
     "output_type": "stream",
     "text": [
      "name,num_employees,website,founder_name,ceo_name,ceo_twitter_url\n",
      "Twitter,3898,https://twitter.com,Jack Dorsey,Elon Musk,https://twitter.com/elonmusk\n",
      "Dropbox,2667,http://www.dropbox.com/,Drew Houston,Drew Houston,https://twitter.com/drewhouston\n",
      "Meta,70000,http://meta.com/,Mark Zuckerberg,Mark Zuckerberg,https://twitter.com/finkd\n",
      "Apple,154000,http://apple.com/,Sateve Jobs,Tim Cook,https://twitter.com/tim_cook\n",
      "\n"
     ]
    }
   ],
   "source": [
    "sample_dataset = \\\n",
    "\"\"\"name,num_employees,website,founder_name,ceo_name,ceo_twitter_url\n",
    "Twitter,3898,https://twitter.com,Jack Dorsey,Elon Musk,https://twitter.com/elonmusk\n",
    "Dropbox,2667,http://www.dropbox.com/,Drew Houston,Drew Houston,https://twitter.com/drewhouston\n",
    "Meta,70000,http://meta.com/,Mark Zuckerberg,Mark Zuckerberg,https://twitter.com/finkd\n",
    "Apple,154000,http://apple.com/,Sateve Jobs,Tim Cook,https://twitter.com/tim_cook\n",
    "\"\"\"\n",
    "print(sample_dataset)"
   ]
  },
  {
   "cell_type": "code",
   "execution_count": 3,
   "id": "8be09d8d-34a0-44cc-9f65-a0db178d952f",
   "metadata": {},
   "outputs": [
    {
     "data": {
      "text/plain": [
       "[{'name': 'Twitter',\n",
       "  'num_employees': '3898',\n",
       "  'website': 'https://twitter.com',\n",
       "  'founder_name': 'Jack Dorsey',\n",
       "  'ceo_name': 'Elon Musk',\n",
       "  'ceo_twitter_url': 'https://twitter.com/elonmusk'},\n",
       " {'name': 'Dropbox',\n",
       "  'num_employees': '2667',\n",
       "  'website': 'http://www.dropbox.com/',\n",
       "  'founder_name': 'Drew Houston',\n",
       "  'ceo_name': 'Drew Houston',\n",
       "  'ceo_twitter_url': 'https://twitter.com/drewhouston'},\n",
       " {'name': 'Meta',\n",
       "  'num_employees': '70000',\n",
       "  'website': 'http://meta.com/',\n",
       "  'founder_name': 'Mark Zuckerberg',\n",
       "  'ceo_name': 'Mark Zuckerberg',\n",
       "  'ceo_twitter_url': 'https://twitter.com/finkd'},\n",
       " {'name': 'Apple',\n",
       "  'num_employees': '154000',\n",
       "  'website': 'http://apple.com/',\n",
       "  'founder_name': 'Sateve Jobs',\n",
       "  'ceo_name': 'Tim Cook',\n",
       "  'ceo_twitter_url': 'https://twitter.com/tim_cook'}]"
      ]
     },
     "execution_count": 3,
     "metadata": {},
     "output_type": "execute_result"
    }
   ],
   "source": [
    "reader = DictReader(io.StringIO(sample_dataset), dialect='unix')\n",
    "parsed_data = []\n",
    "for row in reader:\n",
    "    parsed_data.append(row)\n",
    "parsed_data"
   ]
  },
  {
   "cell_type": "markdown",
   "id": "ed7c7417-b1ca-479f-a512-de2d1eb89e15",
   "metadata": {},
   "source": [
    "Now that we've loaded this data, we need to transform it into a set of predicates that exist on the [protocol's schema](https://dapp.golden.xyz/schema). We can get a full list of available predicates on [https://dapp.golden.xyz/schema]() or use the API itself to browse through the full list of implemented predicates:"
   ]
  },
  {
   "cell_type": "code",
   "execution_count": 4,
   "id": "c13f9e52-68f8-43f2-9bb9-d89140599e89",
   "metadata": {},
   "outputs": [
    {
     "data": {
      "text/plain": [
       "[{'node': {'id': '03744719-b7f6-4316-b105-93a94f3b53cc',\n",
       "   'name': 'SIC Code',\n",
       "   'objectType': 'INTEGER'}},\n",
       " {'node': {'id': '047cb849-0d0e-4c24-a4a4-51e53336b1ea',\n",
       "   'name': 'Duplicate of',\n",
       "   'objectType': 'ENTITY'}},\n",
       " {'node': {'id': '08219f1e-6c57-4fad-99a3-a998038e663d',\n",
       "   'name': 'NAICS Code',\n",
       "   'objectType': 'INTEGER'}},\n",
       " {'node': {'id': '09dec055-52d8-42e6-9fc0-56ecac599a8b',\n",
       "   'name': 'Spotify Artist ID',\n",
       "   'objectType': 'STRING'}}]"
      ]
     },
     "execution_count": 4,
     "metadata": {},
     "output_type": "execute_result"
    }
   ],
   "source": [
    "goldapi = GoldenAPI()\n",
    "predicates = goldapi.predicates()\n",
    "predicates[\"data\"][\"predicates\"][\"edges\"][:4]"
   ]
  },
  {
   "cell_type": "markdown",
   "id": "32037df9-8a5a-405a-ac93-6edc200d8e5d",
   "metadata": {},
   "source": [
    "For this particular dataset, the mapping between the CSV columns and the Protocol's predicates would be as follows:\n",
    "\n",
    "- name: Name\n",
    "- num_employees: Number of Employees\n",
    "- website: Website\n",
    "- founder_name: Founder -> Name\n",
    "- ceo_name: CEO -> Name\n",
    "\n",
    "Note that some predicates, such as *Founder* and *CEO* do not take a value, but a reference to another entity of the protocol. Since our dataset does not have such references, but triples related to those entities, we will need to disambiguate those first, and once we have a valid id reference, disambiguate again. The API itself does have support for disambiguating recursively, so you'll be covered as long as the data is formatted correctly.\n",
    "\n",
    "With the code below, we define the mapping between the dataset column names and the protocol's predicates. Also, we define a function that will create nested triple structures, for when we need to disambiguate recursively."
   ]
  },
  {
   "cell_type": "code",
   "execution_count": 5,
   "id": "c2dc4c6a-c3ef-4cba-b566-0465e3e699ef",
   "metadata": {},
   "outputs": [],
   "source": [
    "column_predicate_mapping = {\n",
    "    \"name\": [\"Name\"],\n",
    "    \"num_employees\": [\"Number of Employees\"],\n",
    "    \"website\": [\"Website\"],\n",
    "    \"founder_name\": [\"Founder\", \"Name\"],\n",
    "    \"ceo_name\": [\"CEO\", \"Name\"],\n",
    "    \"ceo_twitter_url\": [\"CEO\", \"Twitter URL\"],\n",
    "}\n",
    "\n",
    "def protocol_predicate_mapper(\n",
    "    input_data: List[Dict[str, str]],\n",
    "    column_mappings: Dict[str, List[str]]\n",
    ") -> List[DisambiguationTripleDict]:\n",
    "    # hoa\n",
    "    transformed_data = []\n",
    "    for entity in input_data:\n",
    "        protocol_triples = {}\n",
    "        for k, v in entity.items():\n",
    "            triples = protocol_triples\n",
    "            sub_predicates = column_mappings[k]\n",
    "            while sub_predicates:\n",
    "                predicate, *sub_predicates = sub_predicates\n",
    "                if sub_predicates:\n",
    "                    triples[predicate] = triples.get(predicate,{})\n",
    "                    triples = triples[predicate]\n",
    "                else:\n",
    "                    triples[predicate] = v\n",
    "        transformed_data.append(protocol_triples)\n",
    "    return transformed_data\n"
   ]
  },
  {
   "cell_type": "markdown",
   "id": "f5e6cffd-3c48-483b-b495-4d6e1a723f80",
   "metadata": {},
   "source": [
    "And now, let's test out the automated mapping onto our dataset:"
   ]
  },
  {
   "cell_type": "code",
   "execution_count": 6,
   "id": "e6693748-8956-48ca-9a14-042ae9c21ff1",
   "metadata": {},
   "outputs": [
    {
     "data": {
      "text/plain": [
       "[{'Name': 'Twitter',\n",
       "  'Number of Employees': '3898',\n",
       "  'Website': 'https://twitter.com',\n",
       "  'Founder': {'Name': 'Jack Dorsey'},\n",
       "  'CEO': {'Name': 'Elon Musk', 'Twitter URL': 'https://twitter.com/elonmusk'}},\n",
       " {'Name': 'Dropbox',\n",
       "  'Number of Employees': '2667',\n",
       "  'Website': 'http://www.dropbox.com/',\n",
       "  'Founder': {'Name': 'Drew Houston'},\n",
       "  'CEO': {'Name': 'Drew Houston',\n",
       "   'Twitter URL': 'https://twitter.com/drewhouston'}},\n",
       " {'Name': 'Meta',\n",
       "  'Number of Employees': '70000',\n",
       "  'Website': 'http://meta.com/',\n",
       "  'Founder': {'Name': 'Mark Zuckerberg'},\n",
       "  'CEO': {'Name': 'Mark Zuckerberg',\n",
       "   'Twitter URL': 'https://twitter.com/finkd'}},\n",
       " {'Name': 'Apple',\n",
       "  'Number of Employees': '154000',\n",
       "  'Website': 'http://apple.com/',\n",
       "  'Founder': {'Name': 'Sateve Jobs'},\n",
       "  'CEO': {'Name': 'Tim Cook', 'Twitter URL': 'https://twitter.com/tim_cook'}}]"
      ]
     },
     "execution_count": 6,
     "metadata": {},
     "output_type": "execute_result"
    }
   ],
   "source": [
    "transformed_data = protocol_predicate_mapper(parsed_data, column_predicate_mapping)\n",
    "transformed_data"
   ]
  },
  {
   "cell_type": "markdown",
   "id": "68e973d7-82bd-41da-a321-f6e52414c738",
   "metadata": {},
   "source": [
    "As you can see, for most of the columns, we've just had to rename them, so their name would match an existing predicate. For predicates that referenced other entities, such as CEO, since we didn't have the graph reference, but did have triples on the underlying object which we could use for disambiguation, we nest a dictionary inside, which will be disambiguated automatically when calling the API.\n",
    "\n",
    "For example, let's disambiguate the triples on Twitter:"
   ]
  },
  {
   "cell_type": "code",
   "execution_count": 7,
   "id": "f9b12bb2-e757-40fb-bff2-6de5e85744c2",
   "metadata": {},
   "outputs": [
    {
     "data": {
      "text/plain": [
       "[{'name': 'Twitter',\n",
       "  'distance': 0,\n",
       "  'id': 'e2c2c291-164a-443b-a034-ff6fc29003fe',\n",
       "  'reputation': 0.5186093326169795}]"
      ]
     },
     "execution_count": 7,
     "metadata": {},
     "output_type": "execute_result"
    }
   ],
   "source": [
    "twitter_triples = transformed_data[0]\n",
    "response = goldapi.disambiguate_triples(twitter_triples, with_diff=False)\n",
    "response[\"data\"][\"disambiguateTriples\"][\"entities\"]"
   ]
  },
  {
   "cell_type": "markdown",
   "id": "38e8b184-f720-48fd-a1a2-fbbf9ad393ca",
   "metadata": {},
   "source": [
    "In this particular case, the `disambiguate_triple()` API call has found a perfect match (`distance=0`) on the entity with [id=e2c2c291-164a-443b-a034-ff6fc29003fe](https://dapp.golden.xyz/entity/e2c2c291-164a-443b-a034-ff6fc29003fe), so it would be pretty safe to assume that the triples would need to be submitted against that entity id.\n",
    "\n",
    "If we want to further inquire about which triples, for the disambiguated entity, have already been submitted, and which ones haven't, we can turn on the `with_diff=True`flag:"
   ]
  },
  {
   "cell_type": "code",
   "execution_count": 8,
   "id": "8d5584b0-f6d6-4d4a-b06e-91a99b7bd5b8",
   "metadata": {},
   "outputs": [
    {
     "data": {
      "text/plain": [
       "{'name': 'Twitter',\n",
       " 'distance': 0,\n",
       " 'id': 'e2c2c291-164a-443b-a034-ff6fc29003fe',\n",
       " 'reputation': 0.5186093326169795,\n",
       " 'diff': {'matches': [{'id': 'f717813c-ba53-4a9f-bfcd-9ac757b1cef1',\n",
       "    'validation_status': 'PENDING',\n",
       "    'predicate': 'Name',\n",
       "    'object': 'Twitter'},\n",
       "   {'id': 'fde62f90-b0ad-47ae-93e1-7b667eea0006',\n",
       "    'validation_status': 'PENDING',\n",
       "    'predicate': 'Number of Employees',\n",
       "    'object': '3898'},\n",
       "   {'id': '719f92d0-d746-4c44-ae87-07efddb4c498',\n",
       "    'validation_status': 'PENDING',\n",
       "    'predicate': 'Website',\n",
       "    'object': 'https://twitter.com'},\n",
       "   {'id': '908cfa7c-7547-440d-81d0-24e417de5c3b',\n",
       "    'validation_status': 'PENDING',\n",
       "    'predicate': 'Founder',\n",
       "    'object': 'ce74eba3-90cf-466f-9193-dea711000b3e'},\n",
       "   {'id': 'a7a082b6-56ba-4eec-b4c2-0147dead7445',\n",
       "    'validation_status': 'PENDING',\n",
       "    'predicate': 'CEO',\n",
       "    'object': 'a73fb5d5-baac-4d33-a979-4b3863ab651d'}],\n",
       "  'inserts': [],\n",
       "  'updates': []}}"
      ]
     },
     "execution_count": 8,
     "metadata": {},
     "output_type": "execute_result"
    }
   ],
   "source": [
    "response = goldapi.disambiguate_triples(twitter_triples, with_diff=True)\n",
    "disambiguation_candidate = response[\"data\"][\"disambiguateTriples\"][\"entities\"][0]\n",
    "disambiguation_candidate"
   ]
  },
  {
   "cell_type": "markdown",
   "id": "6eba3b76-5be9-4a4c-b203-bfb57b30a9ad",
   "metadata": {},
   "source": [
    "In this case, all triples have already been submitted to the graph, albeit their status may not be `ACCCEPTED` yet, so there's nothing that would need to be submitted.\n",
    "\n",
    "Another thing that I would like to put attention to is how the *Founder* (*[id=ce74eba3-90cf-466f-9193-dea711000b3e](https://dapp.golden.xyz/entity/ce74eba3-90cf-466f-9193-dea711000b3e)*) triple and the *CEO* (*[id=a73fb5d5-baac-4d33-a979-4b3863ab651d](https://dapp.golden.xyz/entity/a73fb5d5-baac-4d33-a979-4b3863ab651d)*) triple of the response have been disambiguated to actual Protocol entities. The `disambiguate_triples()` API call recursively calls itself and picks up the best candidate within the distance threshold specified in the call (.3) by default.\n",
    "\n",
    "It is possible to filter the triple search space by setting the `validation_status` flag. For example, `validation_status=ACCEPTED` will only search within *ACCEPTED* candidate triples. By default, we search all triples, unless *INVALID* or *REJECTED*.\n",
    "\n",
    "Another concept of the `disambiguation_triple()` API is the entity *reputation* metric. This is a number between 0 and 1, relative to other reputations in the same response, being 1 preferable to 0 (unlike distance, which the lower the number, the better match). Entity reputation is a rough aproximation of how much effort people have put into a given entity. The higher the reputation, the more contributions that entity has received, and the higher value they are perceived to be. Within 2 entities similarly distanced, you would usually favor that with the higher reputation."
   ]
  },
  {
   "cell_type": "markdown",
   "id": "c6baa5bb-ebd2-4966-ac9d-de62d1210de1",
   "metadata": {},
   "source": [
    "To end the tutorial, let's write a full loop on the dataset, where for each row we pick the highest reputation entity, along with the list of triples that are still missing from the system:"
   ]
  },
  {
   "cell_type": "code",
   "execution_count": 9,
   "id": "7d89123f-b4fd-4dd0-ac09-b2fd2eb46c48",
   "metadata": {},
   "outputs": [
    {
     "data": {
      "text/plain": [
       "[['e2c2c291-164a-443b-a034-ff6fc29003fe', 'Twitter', []],\n",
       " ['9cfc518f-83d6-447c-bc8e-aeb381b18056',\n",
       "  'Dropbox',\n",
       "  [{'object': 'http://www.dropbox.com/', 'predicate': 'Website'}]],\n",
       " ['6f2df1d3-3d38-485c-9236-db4d9312d6a9',\n",
       "  'Meta',\n",
       "  [{'object': '70000', 'predicate': 'Number of Employees'},\n",
       "   {'object': 'http://meta.com/', 'predicate': 'Website'}]],\n",
       " ['debcb513-b842-4645-9856-2f4ea975002b',\n",
       "  'Apple (company)',\n",
       "  [{'object': 'Apple', 'predicate': 'Name'},\n",
       "   {'object': 'http://apple.com/', 'predicate': 'Website'}]]]"
      ]
     },
     "execution_count": 9,
     "metadata": {},
     "output_type": "execute_result"
    }
   ],
   "source": [
    "disambiguated_entities = []\n",
    "for triples in transformed_data:\n",
    "    response = goldapi.disambiguate_triples(triples, distance_threshold=.3, with_diff=True)\n",
    "    disambiguation_candidate = sorted(response[\"data\"][\"disambiguateTriples\"][\"entities\"], key=lambda e: -e[\"reputation\"])[0]\n",
    "    disambiguated_entities.append([\n",
    "        disambiguation_candidate[\"id\"],\n",
    "        disambiguation_candidate[\"name\"],\n",
    "        disambiguation_candidate[\"diff\"][\"inserts\"],\n",
    "    ])\n",
    "disambiguated_entities"
   ]
  },
  {
   "cell_type": "markdown",
   "id": "673cfc80-6ff0-460e-aadb-9dfcff61e998",
   "metadata": {},
   "source": [
    "As we can see, we've been able to disambiguate every entity, along with a subset of triples that are still missing from the graph, which we could then proceed to submit, as shown in the Create Triples tutorial in this same folder."
   ]
  }
 ],
 "metadata": {
  "kernelspec": {
   "display_name": "Python 3 (ipykernel)",
   "language": "python",
   "name": "python3"
  },
  "language_info": {
   "codemirror_mode": {
    "name": "ipython",
    "version": 3
   },
   "file_extension": ".py",
   "mimetype": "text/x-python",
   "name": "python",
   "nbconvert_exporter": "python",
   "pygments_lexer": "ipython3",
   "version": "3.9.5"
  }
 },
 "nbformat": 4,
 "nbformat_minor": 5
}
